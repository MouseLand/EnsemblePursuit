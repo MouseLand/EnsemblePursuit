{
 "cells": [
  {
   "cell_type": "code",
   "execution_count": 1,
   "metadata": {},
   "outputs": [],
   "source": [
    "import numpy as np\n",
    "from sklearn.decomposition import PCA\n",
    "from scipy.stats import zscore\n",
    "import matplotlib.pyplot as plt\n",
    "from scipy.ndimage import gaussian_filter, gaussian_filter1d"
   ]
  },
  {
   "cell_type": "code",
   "execution_count": 2,
   "metadata": {},
   "outputs": [
    {
     "name": "stdout",
     "output_type": "stream",
     "text": [
      "Shape of the data matrix, neurons by timepoints: (18795, 30766)\n",
      "(18795, 30560)\n"
     ]
    }
   ],
   "source": [
    "data_path='/media/maria/DATA1/Documents/data_for_suite2p/TX39/'\n",
    "dt=1\n",
    "spks= np.load(data_path+'spks.npy')\n",
    "print('Shape of the data matrix, neurons by timepoints:',spks.shape)\n",
    "iframe = np.load(data_path+'iframe.npy') # iframe[n] is the microscope frame for the image frame n\n",
    "ivalid = iframe+dt<spks.shape[-1] # remove timepoints outside the valid time range\n",
    "iframe = iframe[ivalid]\n",
    "S = spks[:, iframe+dt]\n",
    "print(S.shape)"
   ]
  },
  {
   "cell_type": "code",
   "execution_count": 3,
   "metadata": {},
   "outputs": [],
   "source": [
    "#zsc=zscore(S,axis=1)\n",
    "#del S\n",
    "del spks"
   ]
  },
  {
   "cell_type": "code",
   "execution_count": 4,
   "metadata": {},
   "outputs": [],
   "source": [
    "#print(zsc)"
   ]
  },
  {
   "cell_type": "code",
   "execution_count": 5,
   "metadata": {},
   "outputs": [
    {
     "name": "stdout",
     "output_type": "stream",
     "text": [
      "0.86673564\n",
      "(30560, 3000)\n"
     ]
    }
   ],
   "source": [
    "import numpy as np\n",
    "from sklearn.decomposition import PCA\n",
    "pca = PCA(n_components=3000)\n",
    "V=pca.fit_transform(S.T)\n",
    "print(np.sum(pca.explained_variance_ratio_))\n",
    "print(V.shape)"
   ]
  },
  {
   "cell_type": "code",
   "execution_count": 6,
   "metadata": {},
   "outputs": [],
   "source": [
    "def train_test_split(NT):\n",
    "        nsegs = 20\n",
    "        nt=NT\n",
    "        nlen  = nt/nsegs\n",
    "        ninds = np.linspace(0,nt-nlen,nsegs).astype(int)\n",
    "        itest = (ninds[:,np.newaxis] + np.arange(0,nlen*0.25,1,int)).flatten()\n",
    "        itrain = np.ones(nt, np.bool)\n",
    "        itrain[itest] = 0\n",
    "        return itrain, itest"
   ]
  },
  {
   "cell_type": "code",
   "execution_count": 11,
   "metadata": {},
   "outputs": [
    {
     "name": "stdout",
     "output_type": "stream",
     "text": [
      "[False False False ...  True  True  True]\n"
     ]
    }
   ],
   "source": [
    "NT = S.shape[1]\n",
    "itrain,itest=train_test_split(NT)\n",
    "print(itrain)"
   ]
  },
  {
   "cell_type": "code",
   "execution_count": 13,
   "metadata": {},
   "outputs": [],
   "source": [
    "proc = np.load(data_path+'cam1_TX39_2019_05_31_1_proc_resampled.npy', allow_pickle=True).item()\n",
    "motSVD = proc['motSVD'][:,iframe+dt]\n",
    "motSVD -= motSVD.mean(axis=1)[:,np.newaxis]\n",
    "beh=motSVD[:,:]\n",
    "covM = np.matmul(beh[:,itrain], beh[:,itrain].T)\n",
    "lam = 1e5 # regularizer\n",
    "covM += lam*np.eye(beh.shape[0])\n",
    "A = np.linalg.solve(covM, np.matmul(beh[:,itrain], V.T[:,itrain].T))\n",
    "Vpred = np.matmul(A.T, beh[:,itest])\n",
    "beh_corr_lst=[]\n",
    "nr_of_components=3000\n",
    "for j in range(0,nr_of_components):\n",
    "    beh_corr_lst.append(np.corrcoef(Vpred[j,:],V.T[j,itest])[0,1])"
   ]
  },
  {
   "cell_type": "code",
   "execution_count": 14,
   "metadata": {},
   "outputs": [
    {
     "data": {
      "text/plain": [
       "[<matplotlib.lines.Line2D at 0x7f3154426610>]"
      ]
     },
     "execution_count": 14,
     "metadata": {},
     "output_type": "execute_result"
    },
    {
     "data": {
      "image/png": "[encoded data removed]",
      "text/plain": [
       "<Figure size 432x288 with 1 Axes>"
      ]
     },
     "metadata": {
      "needs_background": "light"
     },
     "output_type": "display_data"
    }
   ],
   "source": [
    "plt.plot(beh_corr_lst)"
   ]
  },
  {
   "cell_type": "code",
   "execution_count": null,
   "metadata": {},
   "outputs": [],
   "source": []
  }
 ],
 "metadata": {
  "kernelspec": {
   "display_name": "Python 3",
   "language": "python",
   "name": "python3"
  },
  "language_info": {
   "codemirror_mode": {
    "name": "ipython",
    "version": 3
   },
   "file_extension": ".py",
   "mimetype": "text/x-python",
   "name": "python",
   "nbconvert_exporter": "python",
   "pygments_lexer": "ipython3",
   "version": "3.7.4"
  }
 },
 "nbformat": 4,
 "nbformat_minor": 2
}
