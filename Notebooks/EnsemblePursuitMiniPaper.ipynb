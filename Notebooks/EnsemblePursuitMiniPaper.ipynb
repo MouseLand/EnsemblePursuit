{
 "cells": [
  {
   "cell_type": "markdown",
   "metadata": {},
   "source": [
    "# Ensemble Pursuit: an algorithm for finding  overlapping clusters of correlated neurons in large-scale recordings"
   ]
  },
  {
   "cell_type": "code",
   "execution_count": 1,
   "metadata": {},
   "outputs": [],
   "source": [
    "from scipy import io\n",
    "import numpy as np\n",
    "from scipy.stats import zscore\n",
    "import matplotlib.pyplot as plt\n",
    "from EnsemblePursuit.EnsemblePursuit import new_ensemble"
   ]
  },
  {
   "cell_type": "markdown",
   "metadata": {},
   "source": [
    "## Abstract\n",
    "\n",
    "Large populations of neurons coordinate their activity to process shared sensory inputs and encode internal behavioral states. To extract these patterns of coordination in large datasets, we developed a fast greedy algorithm based on dictionary learning which extracts correlated and overlapping ensembles of cells from calcium imaging recordings. The learning algorithm continuously initializes and extracts new dictionary terms greedily from the residuals of the cost function given the current active set of dictionary elements. It shares this strategy with projection pursuit methods like independent components analysis, and we thus called the algorithm ”ensemble pursuit”. The method has a tunable parameter to control the sparsity of the ensembles, e.g. how many cells they include on average. Because one cell typically belongs to multiple ensembles, the model is more flexible than traditional clustering approaches. We applied the algorithm to simultaneous calcium imaging recordings of tens of thousands neurons from V1 primary cortical area of the mouse and evaluated the encoding of stimulus and behavioral variables by groups of cells extracted by the algorithm."
   ]
  },
  {
   "cell_type": "markdown",
   "metadata": {},
   "source": [
    "## Introduction\n",
    "\n",
    "To begin our investigations, we ask the basic question: \"How is the computation organized at the circuit level in the brain? Are there redundant functional modules in the cortical code, with some neurons representing the same information? Can we extract from high-dimensional data groupings of cells that tend respond similarly to stimuli or share variability through behavioral variables encoded internally by the brain?\" We develop a mathematical framework for rigorously exploring these questions. \n",
    "\n",
    "Two techniques used to understand high-dimensional data are matrix factorization and clustering. The most famous and widely employed algorithm for matrix factorization method is Principal Components Analysis (PCA). It minimizes the following unconstrained reconstruction cost function:\n",
    "$$\\text{Cost} = \\| X - U \\cdot V\\|^2 $$\n",
    "In PCA, $U$ is a dense matrix. In contrast, for clustering methods the rows of $U$ have only one non-zero element, which is either fixed at 1, or allowed to take on a scalar positive value. This extreme sparsity constraint makes clustering a highly interpretable method: it groups together datapoints that are similar. However, it has the caveat of only accounting for a small fraction of the variance of most datasets $X$. Ensemble Pursuit is a matrix  factorization algorithm that adds an additional constraint to the reconstruction cost function: \n",
    "$$\\text{Cost} = \\| X - U\\cdot V\\|^2 + \\lambda \\|U\\|_0 \\label{cost_function} $$\n",
    "By adding a tunable parameter ($\\lambda$) as an L0 sparsity penalty to the columns of the matrix $U$ we can steer the algorithm to find solutions in between the hard constraints of clustering (a neuron can belong to only one cluster) and the uninterpretable factors extracted by unconstrained PCA (all neurons belong to all clusters).\n",
    "\n",
    "Thus, ensembles in this framework are cells that belong to the components demarcated by $U$. $V$ represents the average temporal evolution of the neurons in the ensemble."
   ]
  },
  {
   "cell_type": "markdown",
   "metadata": {},
   "source": [
    "## Ensemble Pursuit Algorithm"
   ]
  },
  {
   "cell_type": "markdown",
   "metadata": {},
   "source": [
    "\n",
    "$\\newcommand{\\vv}{\\vec{v}}\n",
    "\\newcommand{\\vx}{\\vec{x}}\n",
    "\\newcommand{\\vu}{\\vec{u}}\n",
    "$\n",
    "\n",
    "\n",
    "Consider $X$ to be a matrix of neurons by timepoints. The goal is to find one ensemble of neurons that have very similar activity over time. We achieve this objective by greedily adding neurons to the ensemble by picking neurons whose variance is best explained by the ensemble. After adding each neuron, we recompute the mean activity of the neurons so far in the ensemble, and continue adding neurons that are most correlated to this mean activity. We stop when there are no neurons left correlated to the ensemble above a threshold value $\\lambda$. \n",
    "\n",
    "We developed a method for initializing the ensemble based on the k-means algorithm, but for now for exposition purposes, let's assume we initialize a seed time course for the ensemble to be the time course of a seed neuron. In our initial experiments we picked this seed neuron to be a neuron that is most correlated on average to its neighbors and this method worked well in terms of finding ensembles that gave a high stimulus decoding accuracy, bu the method was too slow because it required sorting a large array of the size $O(\\text{neurons}^2)$. \n",
    "\n",
    "Thus, if we pick a seed neuron $k$ to start from, that sets the corresponding $u_k = 1$. To set $\\vv$ given this new $\\vu$, we inspect the cost function  and observe that the best setting of $\\vv$ is $\\vv = \\vx_k$, where $x_k$ is the row in $X$ corresponding to the activity of neuron $k$. Fixing this $\\vv$, we look to activate a new neuron in $\\vu$ that is best explained by $\\vv$. For each neuron $j$, we thus compute its potential explained variance, if that neuron was assigned to this ensemble\n",
    "\n",
    "$$\n",
    "    \\Delta_j  = \\|\\vx_j\\|^2 - \\|\\vx_j - u_j \\vv^\\top\\|^2 - \\lambda\n",
    "$$\n",
    "\n",
    "Taking the derivative of the cost function yields the following expression:\n",
    "\n",
    "$$\n",
    "    \\Delta_j = \\frac{\\max\\left(0, \\vx_j^\\top \\vv \\right)^2}{\\|\\vv\\|^2} - \\lambda \\label{delta_cost}\n",
    "$$\n",
    "\n",
    "Among the neurons we greedily pick the next neuron to add to the ensemble neuron as the one that leads to the highest reduction of the cost and if the neuron is above the regularization term $\\lambda$.\n",
    "\n",
    "Let's see this work on data.\n",
    "\n",
    "The data can be downloaded here https://figshare.com/articles/Recordings_of_ten_thousand_neurons_in_visual_cortex_in_response_to_2_800_natural_images/6845348 The data comes from the publication \"High-dimensional geometry of population responses in visual cortex\", Stringer and Pachitariu et al, 2019, Nature."
   ]
  },
  {
   "cell_type": "code",
   "execution_count": 12,
   "metadata": {},
   "outputs": [
    {
     "name": "stdout",
     "output_type": "stream",
     "text": [
      "Shape of the data matrix, neurons by timepoints: (18795, 30766)\n",
      "Cost vector shape (18795,)\n"
     ]
    },
    {
     "data": {
      "image/png": "[encoded data removed]",
      "text/plain": [
       "<Figure size 432x288 with 1 Axes>"
      ]
     },
     "metadata": {
      "needs_background": "light"
     },
     "output_type": "display_data"
    }
   ],
   "source": [
    "#CHANGE ME\n",
    "data_path='/home/maria/Documents/data_for_suite2p/TX39/'\n",
    "dt=1\n",
    "#Load in data\n",
    "spks= np.load(data_path+'spks.npy')\n",
    "print('Shape of the data matrix, neurons by timepoints:',spks.shape)\n",
    "iframe = np.load(data_path+'iframe.npy') # iframe[n] is the microscope frame for the image frame n\n",
    "ivalid = iframe+dt<spks.shape[-1] # remove timepoints outside the valid time range\n",
    "iframe = iframe[ivalid]\n",
    "S = spks[:, iframe+dt]\n",
    "S=zscore(S[:,:10000],axis=1)\n",
    "\n",
    "#Pick a random seed neuron\n",
    "seed_neuron=S[200,:]\n",
    "plt.show()\n",
    "\n",
    "cost_vector=np.clip(S@seed_neuron,a_min=0,a_max=None)**2/np.sum(seed_neuron**2)\n",
    "print('Cost vector shape %s' % str(cost_vector.shape))\n",
    "plt.hist(cost_vector)\n",
    "plt.show()\n",
    "print(co)\n"
   ]
  },
  {
   "cell_type": "code",
   "execution_count": null,
   "metadata": {},
   "outputs": [],
   "source": [
    "stat = np.load((data_path+'stat.npy'), allow_pickle=True) # these are the per-neuron stats returned by suite2p\n",
    "# these are the neurons' 2D coordinates\n",
    "ypos = np.array([stat[n]['med'][0] for n in range(len(stat))]) \n",
    "# (notice the python list comprehension [X(n) for n in range(N)])\n",
    "xpos = np.array([stat[n]['med'][1] for n in range(len(stat))]) "
   ]
  }
 ],
 "metadata": {
  "kernelspec": {
   "display_name": "Python 3",
   "language": "python",
   "name": "python3"
  },
  "language_info": {
   "codemirror_mode": {
    "name": "ipython",
    "version": 3
   },
   "file_extension": ".py",
   "mimetype": "text/x-python",
   "name": "python",
   "nbconvert_exporter": "python",
   "pygments_lexer": "ipython3",
   "version": "3.7.4"
  }
 },
 "nbformat": 4,
 "nbformat_minor": 2
}
