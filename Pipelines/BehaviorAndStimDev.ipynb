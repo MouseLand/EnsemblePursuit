{
 "cells": [
  {
   "cell_type": "code",
   "execution_count": 1,
   "metadata": {},
   "outputs": [],
   "source": [
    "import numpy as np\n",
    "import torch\n",
    "import sys\n",
    "sys.path.append(\"..\")\n",
    "from scipy import stats\n",
    "from scipy import io\n",
    "import time\n",
    "import sys\n",
    "sys.path.append(\"..\")\n",
    "from EnsemblePursuitModule.EnsemblePursuitNumpyFast import EnsemblePursuitNumpyFast\n",
    "from scipy.ndimage import gaussian_filter, gaussian_filter1d \n",
    "import matplotlib.pyplot as plt"
   ]
  },
  {
   "cell_type": "code",
   "execution_count": 2,
   "metadata": {},
   "outputs": [
    {
     "name": "stdout",
     "output_type": "stream",
     "text": [
      "Shape of the data matrix, timepoints by neurons: (18795, 30766)\n"
     ]
    }
   ],
   "source": [
    "#Load in the data\n",
    "#Set data path to your own path\n",
    "spks= np.load('/home/flora/Documents/spks.npy')\n",
    "print('Shape of the data matrix, timepoints by neurons:',spks.shape)\n",
    "mov    = np.load('/home/flora/Documents/mov.npy')# these are the visual stimuli shown\n",
    "iframe = np.load('/home/flora/Documents/iframe.npy') # iframe[n] is the microscope frame for the image frame n\n"
   ]
  },
  {
   "cell_type": "code",
   "execution_count": 3,
   "metadata": {},
   "outputs": [],
   "source": [
    "# align stimuli to spks (since stimuli are triggered by microscope it's easy)\n",
    "dt = 1 # time offset between stimulus presentation and response\n",
    "ivalid = iframe+dt<spks.shape[-1] # remove timepoints outside the valid time range\n",
    "iframe = iframe[ivalid]\n",
    "mov = mov[:, :, ivalid]\n",
    "S = spks[:, iframe+dt]\n",
    "del spks\n",
    "S = stats.zscore(S, axis=1) # z-score the neural activity before doing anything"
   ]
  },
  {
   "cell_type": "code",
   "execution_count": 4,
   "metadata": {},
   "outputs": [
    {
     "ename": "KeyboardInterrupt",
     "evalue": "",
     "output_type": "error",
     "traceback": [
      "\u001b[0;31m---------------------------------------------------------------------------\u001b[0m",
      "\u001b[0;31mKeyboardInterrupt\u001b[0m                         Traceback (most recent call last)",
      "\u001b[0;32m<ipython-input-4-60bc8dad90ab>\u001b[0m in \u001b[0;36m<module>\u001b[0;34m\u001b[0m\n\u001b[1;32m      3\u001b[0m \u001b[0mstart\u001b[0m\u001b[0;34m=\u001b[0m\u001b[0mtime\u001b[0m\u001b[0;34m.\u001b[0m\u001b[0mtime\u001b[0m\u001b[0;34m(\u001b[0m\u001b[0;34m)\u001b[0m\u001b[0;34m\u001b[0m\u001b[0;34m\u001b[0m\u001b[0m\n\u001b[1;32m      4\u001b[0m \u001b[0mep_np\u001b[0m\u001b[0;34m=\u001b[0m\u001b[0mEnsemblePursuitNumpyFast\u001b[0m\u001b[0;34m(\u001b[0m\u001b[0mn_ensembles\u001b[0m\u001b[0;34m=\u001b[0m\u001b[0mnr_of_components\u001b[0m\u001b[0;34m,\u001b[0m\u001b[0mlambd\u001b[0m\u001b[0;34m=\u001b[0m\u001b[0;36m0.01\u001b[0m\u001b[0;34m,\u001b[0m\u001b[0moptions_dict\u001b[0m\u001b[0;34m=\u001b[0m\u001b[0moptions_dict\u001b[0m\u001b[0;34m)\u001b[0m\u001b[0;34m\u001b[0m\u001b[0;34m\u001b[0m\u001b[0m\n\u001b[0;32m----> 5\u001b[0;31m \u001b[0mU\u001b[0m\u001b[0;34m,\u001b[0m\u001b[0mV\u001b[0m\u001b[0;34m=\u001b[0m\u001b[0mep_np\u001b[0m\u001b[0;34m.\u001b[0m\u001b[0mfit_transform\u001b[0m\u001b[0;34m(\u001b[0m\u001b[0mS\u001b[0m\u001b[0;34m)\u001b[0m\u001b[0;34m\u001b[0m\u001b[0;34m\u001b[0m\u001b[0m\n\u001b[0m\u001b[1;32m      6\u001b[0m \u001b[0mend\u001b[0m\u001b[0;34m=\u001b[0m\u001b[0mtime\u001b[0m\u001b[0;34m.\u001b[0m\u001b[0mtime\u001b[0m\u001b[0;34m(\u001b[0m\u001b[0;34m)\u001b[0m\u001b[0;34m\u001b[0m\u001b[0;34m\u001b[0m\u001b[0m\n\u001b[1;32m      7\u001b[0m \u001b[0mprint\u001b[0m\u001b[0;34m(\u001b[0m\u001b[0mend\u001b[0m\u001b[0;34m-\u001b[0m\u001b[0mstart\u001b[0m\u001b[0;34m)\u001b[0m\u001b[0;34m\u001b[0m\u001b[0;34m\u001b[0m\u001b[0m\n",
      "\u001b[0;32m~/Documents/EnsemblePursuit/EnsemblePursuitModule/EnsemblePursuitNumpyFast.py\u001b[0m in \u001b[0;36mfit_transform\u001b[0;34m(self, X)\u001b[0m\n\u001b[1;32m    114\u001b[0m         \u001b[0mself\u001b[0m\u001b[0;34m.\u001b[0m\u001b[0mV\u001b[0m\u001b[0;34m=\u001b[0m\u001b[0mnp\u001b[0m\u001b[0;34m.\u001b[0m\u001b[0mzeros\u001b[0m\u001b[0;34m(\u001b[0m\u001b[0;34m(\u001b[0m\u001b[0;36m1\u001b[0m\u001b[0;34m,\u001b[0m\u001b[0mX\u001b[0m\u001b[0;34m.\u001b[0m\u001b[0mshape\u001b[0m\u001b[0;34m[\u001b[0m\u001b[0;36m1\u001b[0m\u001b[0;34m]\u001b[0m\u001b[0;34m)\u001b[0m\u001b[0;34m)\u001b[0m\u001b[0;34m\u001b[0m\u001b[0;34m\u001b[0m\u001b[0m\n\u001b[1;32m    115\u001b[0m         \u001b[0mstart\u001b[0m\u001b[0;34m=\u001b[0m\u001b[0mtime\u001b[0m\u001b[0;34m.\u001b[0m\u001b[0mtime\u001b[0m\u001b[0;34m(\u001b[0m\u001b[0;34m)\u001b[0m\u001b[0;34m\u001b[0m\u001b[0;34m\u001b[0m\u001b[0m\n\u001b[0;32m--> 116\u001b[0;31m         \u001b[0mC\u001b[0m\u001b[0;34m=\u001b[0m\u001b[0mX\u001b[0m\u001b[0;34m@\u001b[0m\u001b[0mX\u001b[0m\u001b[0;34m.\u001b[0m\u001b[0mT\u001b[0m\u001b[0;34m\u001b[0m\u001b[0;34m\u001b[0m\u001b[0m\n\u001b[0m\u001b[1;32m    117\u001b[0m         \u001b[0mend\u001b[0m\u001b[0;34m=\u001b[0m\u001b[0mtime\u001b[0m\u001b[0;34m.\u001b[0m\u001b[0mtime\u001b[0m\u001b[0;34m(\u001b[0m\u001b[0;34m)\u001b[0m\u001b[0;34m\u001b[0m\u001b[0;34m\u001b[0m\u001b[0m\n\u001b[1;32m    118\u001b[0m         \u001b[0mprint\u001b[0m\u001b[0;34m(\u001b[0m\u001b[0;34m'full'\u001b[0m\u001b[0;34m,\u001b[0m\u001b[0mend\u001b[0m\u001b[0;34m-\u001b[0m\u001b[0mstart\u001b[0m\u001b[0;34m)\u001b[0m\u001b[0;34m\u001b[0m\u001b[0;34m\u001b[0m\u001b[0m\n",
      "\u001b[0;31mKeyboardInterrupt\u001b[0m: "
     ]
    }
   ],
   "source": [
    "options_dict={'seed_neuron_av_nr':100,'min_assembly_size':8}\n",
    "nr_of_components=200\n",
    "start=time.time()\n",
    "ep_np=EnsemblePursuitNumpyFast(n_ensembles=nr_of_components,lambd=0.01,options_dict=options_dict)\n",
    "U,V=ep_np.fit_transform(S)\n",
    "end=time.time()\n",
    "print(end-start)\n",
    "print('Shape of U and V',U.shape,V.shape)\n",
    "np.save('V.npy',V)\n",
    "np.save('U.npy',U)"
   ]
  },
  {
   "cell_type": "code",
   "execution_count": null,
   "metadata": {
    "scrolled": true
   },
   "outputs": [],
   "source": [
    "from scipy.stats import zscore\n",
    "Sp = V.T\n",
    "Sp = zscore(Sp, axis=1)\n",
    "ly, lx, nstim = mov.shape\n",
    "\n",
    "NN, NT = S.shape \n",
    "\n",
    "X = np.reshape(mov, [-1, NT]) # reshape to Npixels by Ntimepoints\n",
    "X = X-0.5 # subtract the background\n",
    "X = np.abs(X) # does not matter if a pixel is black (0) or white (1)\n",
    "X = stats.zscore(X, axis=1)/NT**.5  # z-score each pixel separately\n",
    "npix = X.shape[0]\n",
    "\n",
    "lam = .0001\n",
    "ncomps = Sp.shape[0]\n",
    "B0 = np.linalg.solve((X @ X.T + lam * np.eye(npix)),  (X @ Sp.T)) # get the receptive fields for each neuron\n",
    "\n",
    "B0 = np.reshape(B0, (ly, lx, ncomps))\n",
    "B0 = gaussian_filter(B0, [.5, .5, 0]) # smooth each receptive field a little\n",
    "\n",
    "plt.figure(figsize=(18, 8))\n",
    "rfmax = np.max(B0)\n",
    "for j in range(200):\n",
    "    plt.subplot(10,20,j+1)\n",
    "    rf = B0[:,:,j]\n",
    "    # rfmax = np.max(np.abs(rf))\n",
    "    plt.imshow(rf, aspect='auto', cmap = 'bwr', vmin = -rfmax, vmax = rfmax) # plot the receptive field for each neuron\n",
    "    #plt.title('PC %d'%(1+j))\n",
    "    plt.axis('off')\n",
    "    \n",
    "plt.show()    "
   ]
  },
  {
   "cell_type": "code",
   "execution_count": null,
   "metadata": {},
   "outputs": [],
   "source": []
  },
  {
   "cell_type": "code",
   "execution_count": null,
   "metadata": {},
   "outputs": [],
   "source": []
  },
  {
   "cell_type": "code",
   "execution_count": null,
   "metadata": {
    "scrolled": true
   },
   "outputs": [],
   "source": [
    "proc = np.load('/home/flora/Documents/cam1_TX39_2019_05_31_1_proc_resampled.npy', allow_pickle=True).item()\n",
    "motSVD = proc['motSVD'][:,iframe+dt]\n",
    "print(motSVD.shape)\n",
    "beh = stats.zscore(beh, axis=1)/NT**.5  # z-score each pixel separately\n",
    "npix = beh.shape[0]\n",
    "\n",
    "lam = .0001\n",
    "ncomps = Sp.shape[0]\n",
    "B= np.linalg.solve((beh @ beh.T + lam * np.eye(npix)),  (beh @ Sp.T)) # get the receptive fields for each neuron\n",
    "print(beh.shape)\n",
    "print(Sp.shape)\n",
    "Vpred = np.matmul(B.T, beh)"
   ]
  },
  {
   "cell_type": "code",
   "execution_count": null,
   "metadata": {},
   "outputs": [],
   "source": [
    "print(beh_reg.shape)\n",
    "print(Vpred.shape)\n",
    "corr_lst=[]\n",
    "for j in range(0,200):\n",
    "    print(np.corrcoef(Vpred[j,:],Sp[j,:])[0,1])\n",
    "    corr_lst.append(np.corrcoef(Vpred[j,:],Sp[j,:])[0,1])"
   ]
  },
  {
   "cell_type": "code",
   "execution_count": null,
   "metadata": {},
   "outputs": [],
   "source": [
    "plt.figure(figsize=(30, 15))\n",
    "rfmax = np.max(B0)\n",
    "for j in range(200):\n",
    "    plt.subplot(10,20,j+1)\n",
    "    rf = B0[:,:,j]\n",
    "    # rfmax = np.max(np.abs(rf))\n",
    "    plt.imshow(rf, aspect='auto', cmap = 'bwr', vmin = -rfmax, vmax = rfmax) # plot the receptive field for each neuron\n",
    "    plt.title((str(corr_lst[j])[0:4]))\n",
    "    plt.axis('off')\n",
    "    \n",
    "plt.show()    "
   ]
  },
  {
   "cell_type": "code",
   "execution_count": null,
   "metadata": {},
   "outputs": [],
   "source": [
    "nsegs = 20\n",
    "nt=NT\n",
    "nlen  = nt/nsegs\n",
    "ninds = np.linspace(0,nt-nlen,nsegs).astype(int)\n",
    "itest = (ninds[:,np.newaxis] + np.arange(0,nlen*0.25,1,int)).flatten()\n",
    "itrain = np.ones(nt, np.bool)\n",
    "itrain[itest] = 0"
   ]
  },
  {
   "cell_type": "code",
   "execution_count": null,
   "metadata": {
    "scrolled": true
   },
   "outputs": [],
   "source": [
    "proc = np.load('/home/flora/Documents/cam1_TX39_2019_05_31_1_proc_resampled.npy', allow_pickle=True).item()\n",
    "motSVD = proc['motSVD'][:,iframe+dt]\n",
    "print(motSVD.shape)\n",
    "beh = stats.zscore(beh, axis=1)/NT**.5  # z-score each pixel separately\n",
    "npix = beh.shape[0]\n",
    "\n",
    "lam = .0001\n",
    "ncomps = Sp.shape[0]\n",
    "B= np.linalg.solve((beh[:,itrain] @ beh[:,itrain].T + lam * np.eye(npix)),  (beh[:,itrain] @ Sp[:,itrain].T)) # get the receptive fields for each neuron\n",
    "print(beh.shape)\n",
    "print(Sp.shape)\n",
    "Vpred = np.matmul(B.T, beh[:,itest])\n",
    "print(Vpred.shape)"
   ]
  },
  {
   "cell_type": "code",
   "execution_count": null,
   "metadata": {},
   "outputs": [],
   "source": [
    "print(beh_reg.shape)\n",
    "print(Vpred.shape)\n",
    "corr_lst=[]\n",
    "for j in range(0,200):\n",
    "    print(np.corrcoef(Vpred[j,:],Sp[j,itest])[0,1])\n",
    "    corr_lst.append(np.corrcoef(Vpred[j,:],Sp[j,itest])[0,1])"
   ]
  },
  {
   "cell_type": "code",
   "execution_count": null,
   "metadata": {},
   "outputs": [],
   "source": [
    "plt.figure(figsize=(30, 15))\n",
    "rfmax = np.max(B0)\n",
    "for j in range(200):\n",
    "    plt.subplot(10,20,j+1)\n",
    "    rf = B0[:,:,j]\n",
    "    # rfmax = np.max(np.abs(rf))\n",
    "    plt.imshow(rf, aspect='auto', cmap = 'bwr', vmin = -rfmax, vmax = rfmax) # plot the receptive field for each neuron\n",
    "    plt.title((str(corr_lst[j])[0:4]))\n",
    "    plt.axis('off')\n",
    "    \n",
    "plt.show()    "
   ]
  },
  {
   "cell_type": "code",
   "execution_count": null,
   "metadata": {},
   "outputs": [],
   "source": [
    "print(B0.shape)\n",
    "for_max=B0.reshape(12*36,200)\n",
    "print(np.max(for_max,axis=0))\n",
    "maximum_vis=np.max(for_max,axis=0)\n",
    "plt.scatter(maximum_vis,corr_lst)"
   ]
  },
  {
   "cell_type": "code",
   "execution_count": null,
   "metadata": {},
   "outputs": [],
   "source": [
    "from scipy.stats import zscore\n",
    "Sp = V.T\n",
    "Sp = zscore(Sp, axis=1)\n",
    "ly, lx, nstim = mov.shape\n",
    "\n",
    "NN, NT = S.shape \n",
    "\n",
    "X = np.reshape(mov, [-1, NT]) # reshape to Npixels by Ntimepoints\n",
    "X = X-0.5 # subtract the background\n",
    "X = np.abs(X) # does not matter if a pixel is black (0) or white (1)\n",
    "X = stats.zscore(X, axis=1)/NT**.5  # z-score each pixel separately\n",
    "npix = X.shape[0]\n",
    "\n",
    "lam = .0001\n",
    "ncomps = Sp.shape[0]\n",
    "vis=np.linalg.solve((X @ X.T + lam * np.eye(npix)),  (X @ Sp.T))\n",
    "print(vis.shape)"
   ]
  }
 ],
 "metadata": {
  "kernelspec": {
   "display_name": "Python 3",
   "language": "python",
   "name": "python3"
  },
  "language_info": {
   "codemirror_mode": {
    "name": "ipython",
    "version": 3
   },
   "file_extension": ".py",
   "mimetype": "text/x-python",
   "name": "python",
   "nbconvert_exporter": "python",
   "pygments_lexer": "ipython3",
   "version": "3.6.8"
  }
 },
 "nbformat": 4,
 "nbformat_minor": 2
}
