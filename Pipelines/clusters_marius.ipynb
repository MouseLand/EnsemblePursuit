{
 "cells": [
  {
   "cell_type": "code",
   "execution_count": 5,
   "metadata": {},
   "outputs": [],
   "source": [
    "from SingleMousePipeline import ModelPipelineSingleMouse\n",
    "from scipy import io\n",
    "import sys\n",
    "sys.path.append(\"..\")\n",
    "import imp\n",
    "import EnsemblePursuitModule\n",
    "import numpy as np\n",
    "imp.reload(EnsemblePursuitModule)\n",
    "import time\n",
    "\n",
    "from EnsemblePursuitModule.EnsemblePursuitNumpyFast import EnsemblePursuitNumpyFast"
   ]
  },
  {
   "cell_type": "code",
   "execution_count": 700,
   "metadata": {},
   "outputs": [],
   "source": [
    "from sklearn.decomposition import PCA, FastICA, NMF\n",
    "from scipy.stats import skew\n",
    "\n",
    "def new_ensemble(X, C, seed_timecourse, lam, discard_first_neuron = False):    \n",
    "    # X are the NT by NN neural activity traces (z-scored)\n",
    "    # C is the covariance matrix of X\n",
    "    # seed_timecourse initializes the ensemble\n",
    "    # lam is the explained variance threshold\n",
    "    # discard the first neuron in the ensemble (if this was used to seed the pursuit)\n",
    "    \n",
    "    NT, NN = X.shape\n",
    "    mask_neurons=np.ones((NN,),dtype=bool)\n",
    "    \n",
    "    # compute initial bias\n",
    "    bias = seed_timecourse @ X\n",
    "    current_v = seed_timecourse\n",
    "    \n",
    "    # initialize C_summed\n",
    "    C_summed = bias.flatten()\n",
    "    \n",
    "    # keep track of neuron order\n",
    "    iorder = np.zeros(NN, 'int32')\n",
    "    \n",
    "    n = 0\n",
    "    while True:\n",
    "        # at each iteration, first determine the neuron to be added\n",
    "        imax = np.argmax(C_summed * mask_neurons)\n",
    "        \n",
    "        # compute norm of ensemble trace\n",
    "        vnorm = np.sum(current_v**2)\n",
    "        \n",
    "        # compute delta cost function\n",
    "        cost_delta = np.maximum(0., C_summed[imax])**2 / vnorm\n",
    "        \n",
    "        # if cost/variance explained is less than lam (* n_timepoints) then break\n",
    "        if cost_delta<lam*NT:\n",
    "            break\n",
    "            \n",
    "        # zero out freshly added neuron\n",
    "        mask_neurons[imax] = False\n",
    "        \n",
    "        if n==0 and discard_first_neuron:            \n",
    "            discard_first_neuron = False\n",
    "            continue\n",
    "        \n",
    "        # add column of C\n",
    "        C_summed = C_summed + C[:, imax]\n",
    "        \n",
    "        # add column of X\n",
    "        current_v = current_v + X[:, imax]\n",
    "        \n",
    "        # keep track of neurons in ensembles\n",
    "        iorder[n] = imax\n",
    "        \n",
    "        n = n+1\n",
    "    \n",
    "    # take only first n neurons\n",
    "    iorder = iorder[:n]\n",
    "    \n",
    "    return iorder, current_v\n",
    "\n",
    "def one_round_of_kmeans(V, X, lam=0.01, threshold=True):\n",
    "    # V are the NT by nK cluster activity traces\n",
    "    # X are the NT by NN neural activity traces (z-scored)\n",
    "    # if the threshold is true, neurons only make it into a cluster if their explained variance is above lam\n",
    "    # this is useful in the last stages when most neurons only have noise left\n",
    "    \n",
    "    NT, nK = V.shape\n",
    "    \n",
    "    # computes projections of neurons onto components\n",
    "    cc = V.T @ X \n",
    "    \n",
    "    # take the biggest projection component for each neuron\n",
    "    imax = np.argmax(cc, axis=0)\n",
    "    \n",
    "    # for every neuron, compute max projection\n",
    "    w = np.max(cc, axis=0)\n",
    "    \n",
    "    # explained variance for each neuron\n",
    "    amax = np.maximum(0, w)**2/NT\n",
    "        \n",
    "    # initialize total explained variance for each cluster\n",
    "    vm = np.zeros((nK,))\n",
    "    \n",
    "    # update each cluster in k-means\n",
    "    for j in range(nK):\n",
    "        # take all neurons assigned to this cluster\n",
    "        ix = imax==j\n",
    "        if threshold:\n",
    "            ix = np.logical_and(ix, amax>lam)\n",
    "        \n",
    "        # if there are more than 0 neurons assigned\n",
    "        if np.sum(ix)>0:\n",
    "            # update the component to be the mean  of assigned neurons\n",
    "            V[:,j] = X[:, ix] @ w[ix]\n",
    "\n",
    "            # compute total explained variance for this cluster\n",
    "            vm[j] = np.sum(amax[ix])\n",
    "            \n",
    "    # re-normalize each column of V separately\n",
    "    V = V/np.sum(V**2 + 1e-6, axis=0)**.5\n",
    "\n",
    "    return V, vm\n",
    "\n",
    "def one_round_of_PCA(V, C):    \n",
    "    # computes projections of neurons onto components\n",
    "    for t in range(5):\n",
    "        V = C @ V\n",
    "        V /= np.sum(V**2)**.5    \n",
    "        V = V.flatten()\n",
    "\n",
    "    return V\n",
    "\n",
    "def initialize_kmeans(X, nK):\n",
    "    # initialize k-means for matrix X (NT by NN)\n",
    "    # the columns of X should be Z-SCORED \n",
    "    \n",
    "    # initialize k-means centers. THINK HOW TO MAKE THIS DETERMINISTIC\n",
    "    t0 = time.time()\n",
    "    model = PCA(n_components=nK, random_state = 101).fit(X.T)\n",
    "    V = model.components_.T\n",
    "    V = V * np.sign(skew(V.T @ X,axis=1))\n",
    "    print('obtained %d PCs in %2.4f seconds'%(nK, time.time()-t0))\n",
    "\n",
    "    #np.random.seed(101)\n",
    "    #rperm = np.random.permutation(X.shape[1])\n",
    "    #V = X[:, rperm[:nK]]\n",
    "    #V = np.random.randn(X.shape[0], nK)\n",
    "\n",
    "    # keep V as unit norm vectors\n",
    "    V /= np.sum(V**2 + 1e-6, axis=0)**.5\n",
    "\n",
    "    t0 = time.time()\n",
    "    \n",
    "    # 10 iterations is plenty\n",
    "    for j in range(10):\n",
    "        # run one round of k-means and update the cluster activities (V)\n",
    "        V, vm = one_round_of_kmeans(V, X, lam, j>5)\n",
    "\n",
    "    print('initialized %d clusters with k-means in %2.4f seconds'%(nK, time.time()-t0))\n",
    "\n",
    "    return V, vm\n",
    "\n",
    "def ensemble_pursuit(X, lam, nK, nKmeans):\n",
    "    NT, NN = X.shape\n",
    "\n",
    "    # convert to float64 for numerical precision\n",
    "    X = np.float64(X)\n",
    "\n",
    "    # initialize k-means clusters and compute their variance in vm\n",
    "    V, vm = initialize_kmeans(X, nKmeans)\n",
    "    \n",
    "    # initialize vectors in ensemble pursuit (Vs)\n",
    "    vs = np.zeros((NT, nK))\n",
    "\n",
    "    # initialize U \n",
    "    U = np.zeros((NN, nK))\n",
    "\n",
    "    # precompute covariance matrix of neurons\n",
    "    C = X.T @ X\n",
    "\n",
    "    # keep track of number of neurons per ensemble\n",
    "    ns = np.zeros(nK,)\n",
    "\n",
    "    # time the ensemble pursuit\n",
    "    t0 = time.time()\n",
    "\n",
    "    #  outer loop\n",
    "    for j in range(nK):\n",
    "        # initialize with \"biggest\" k-means ensemble (by variance)\n",
    "        imax = np.argmax(vm)\n",
    "\n",
    "        # zscore the seed trace\n",
    "        seed = zscore(V[:, imax])\n",
    "        \n",
    "        # fit one ensemble starting from this seed\n",
    "        iorder, current_v  = new_ensemble(X, C, seed, lam)    \n",
    "\n",
    "        # keep track of number of neurons\n",
    "        ns[j] = len(iorder)\n",
    "\n",
    "        # normalize current_v to unit norm\n",
    "        current_v /= np.sum(current_v**2)**.5\n",
    "\n",
    "        # update column of Vs\n",
    "        vs[:,j] = current_v\n",
    "        \n",
    "        # projection of each neuron onto this ensemble trace\n",
    "        w = current_v @ X\n",
    "\n",
    "        # update weights for neurons in this ensemble\n",
    "        U[iorder, j] = w[iorder]\n",
    "\n",
    "        # update activity trace\n",
    "        X[:, iorder] -= np.outer(current_v, w[iorder])\n",
    "\n",
    "        # rank one update to C\n",
    "        wtw = np.outer(w[iorder],  w)\n",
    "\n",
    "        # update the columns\n",
    "        C[:, iorder] -= wtw.T\n",
    "        \n",
    "        # update the rows\n",
    "        C[iorder, :] -= wtw\n",
    "        \n",
    "        # add back term for the submatrix of neurons in this ensemble\n",
    "        C[iorder[:, np.newaxis], iorder] += wtw[:, iorder]\n",
    "\n",
    "        # run one round of k-means because we changed X\n",
    "        V, vm = one_round_of_kmeans(V, X, lam)\n",
    "        \n",
    "        if j%25==0 or j == nK-1:\n",
    "            print('ensemble %d, time %2.2f, nr neurons %d, EV %2.4f'%(j, time.time() - t0, len(iorder), 1-np.mean(X**2)))\n",
    "    print('average sparsity is %2.4f'%(np.mean(U>1e-5)))\n",
    "    \n",
    "    return vs, U"
   ]
  },
  {
   "cell_type": "markdown",
   "metadata": {},
   "source": [
    "# Example of fitting EnsemblePursuit to data"
   ]
  },
  {
   "cell_type": "code",
   "execution_count": 701,
   "metadata": {
    "scrolled": false
   },
   "outputs": [
    {
     "name": "stdout",
     "output_type": "stream",
     "text": [
      "Shape of the data matrix, timepoints by neurons: (5880, 9039)\n"
     ]
    }
   ],
   "source": [
    "data_path='H:/DATA/downloads/'\n",
    "\n",
    "#mouse_filename='natimg2800_M170717_MP034_2017-09-11.mat' \n",
    "mouse_filename='natimg2800_M170714_MP032_2017-08-07.mat' # this file has red cells (GABA-ergic)\n",
    "X = io.loadmat(data_path+mouse_filename)['stim'][0]['resp'][0]\n",
    "\n",
    "# standardize the columns of X\n",
    "X = (X - np.mean(X,axis=0)) / (1e-5 + np.std(X, axis=0))\n",
    "\n",
    "#X = X / (1e-5 + np.mean(X,axis=0)) # this is the right kind of preprocessing for NMF, do not z-score !!!\n",
    "\n",
    "print('Shape of the data matrix, timepoints by neurons:',X.shape)"
   ]
  },
  {
   "cell_type": "code",
   "execution_count": 702,
   "metadata": {
    "scrolled": true
   },
   "outputs": [
    {
     "name": "stdout",
     "output_type": "stream",
     "text": [
      "obtained 25 PCs in 1.1217 seconds\n",
      "initialized 25 clusters with k-means in 2.7799 seconds\n",
      "ensemble 0, time 6.85, nr neurons 6958, EV 0.0392\n",
      "ensemble 25, time 24.05, nr neurons 387, EV 0.1136\n",
      "ensemble 50, time 31.80, nr neurons 170, EV 0.1370\n",
      "ensemble 75, time 37.58, nr neurons 122, EV 0.1528\n",
      "ensemble 100, time 41.70, nr neurons 137, EV 0.1647\n",
      "ensemble 125, time 45.31, nr neurons 46, EV 0.1750\n",
      "ensemble 149, time 48.68, nr neurons 59, EV 0.1840\n",
      "average sparsity is 0.0298\n"
     ]
    }
   ],
   "source": [
    "# define lam\n",
    "lam = .01\n",
    "# define number of ensembles\n",
    "nK = 150\n",
    "nKmeans = 25\n",
    "\n",
    "vs, W = ensemble_pursuit(X, lam, nK, nKmeans)\n",
    "# vs are the ensemble traces, W is the sparse matrix of weights for each neuron\n"
   ]
  },
  {
   "cell_type": "code",
   "execution_count": 699,
   "metadata": {},
   "outputs": [
    {
     "name": "stdout",
     "output_type": "stream",
     "text": [
      "0.12892857142857142\n"
     ]
    }
   ],
   "source": [
    "# two-repeats decoding\n",
    "import utils\n",
    "\n",
    "dat   = io.loadmat(data_path+mouse_filename)\n",
    "istim = dat['stim']['istim'][0][0].astype(np.int32) # stimulus information\n",
    "stat  = dat['stat'] # per-neuron information\n",
    "\n",
    "istim -= 1 # get out of MATLAB convention\n",
    "istim  = istim[:,0]\n",
    "nimg   = istim.max() # these are blank stims (exclude them)\n",
    "\n",
    "V     = vs \n",
    "V     = V[istim<nimg, :]\n",
    "istim = istim[istim<nimg]\n",
    "\n",
    "x_train,x_test,y_train,y_test=utils.test_train_split(V,istim)\n",
    "\n",
    "x_train  = zscore(x_train, axis=1) \n",
    "x_test   = zscore(x_test, axis=1)\n",
    "corr_mat = x_train @ x_test.T # if traces are z-scored, correlation is equivalent to covariance\n",
    "\n",
    "# compute fraction of correct decodings\n",
    "print(np.mean(np.argmax(corr_mat, axis=0) == np.arange(0,x_train.shape[0],1,int)))"
   ]
  },
  {
   "cell_type": "code",
   "execution_count": 688,
   "metadata": {},
   "outputs": [
    {
     "data": {
      "image/png": "[encoded data removed]",
      "text/plain": [
       "<Figure size 432x288 with 1 Axes>"
      ]
     },
     "metadata": {
      "needs_background": "light"
     },
     "output_type": "display_data"
    }
   ],
   "source": [
    "plt.hist(np.sum(W>0, axis=1), bins = np.arange(-.5,15,1))\n",
    "plt.xlabel('number of ensembles / neuron')\n",
    "plt.ylabel('neuron counts')\n",
    "plt.title('distribution of neurons in ensembles')\n",
    "plt.show()\n"
   ]
  },
  {
   "cell_type": "code",
   "execution_count": 673,
   "metadata": {},
   "outputs": [
    {
     "data": {
      "image/png": "[encoded data removed]",
      "text/plain": [
       "<Figure size 432x288 with 1 Axes>"
      ]
     },
     "metadata": {
      "needs_background": "light"
     },
     "output_type": "display_data"
    }
   ],
   "source": [
    "# compute correlation of ensembles between the two repeats\n",
    "V = vs\n",
    "V = zscore(V, axis=0)\n",
    "cc = np.mean(V[2940:, :] * V[:2940, :], axis=0)\n",
    "plt.hist(cc, 50)\n",
    "plt.xlabel('signal correlation')\n",
    "plt.ylabel('number of components')\n",
    "plt.title('Ensemble Pursuit')\n",
    "plt.show()"
   ]
  },
  {
   "cell_type": "code",
   "execution_count": 689,
   "metadata": {},
   "outputs": [
    {
     "data": {
      "image/png": "[encoded data removed]",
      "text/plain": [
       "<Figure size 432x288 with 1 Axes>"
      ]
     },
     "metadata": {
      "needs_background": "light"
     },
     "output_type": "display_data"
    }
   ],
   "source": [
    "# compute correlation of components between the two repeats\n",
    "\n",
    "V = PCA(n_components=nK).fit(X.T).components_.T\n",
    "V = zscore(V, axis=0)\n",
    "cc = np.mean(V[2940:, :] * V[:2940, :], axis=0)\n",
    "plt.hist(cc, 50)\n",
    "plt.xlabel('signal correlation')\n",
    "plt.ylabel('number of components')\n",
    "plt.title('Principal components')\n",
    "plt.show()"
   ]
  },
  {
   "cell_type": "code",
   "execution_count": 697,
   "metadata": {},
   "outputs": [
    {
     "data": {
      "image/png": "[encoded data removed]",
      "text/plain": [
       "<Figure size 432x288 with 1 Axes>"
      ]
     },
     "metadata": {
      "needs_background": "light"
     },
     "output_type": "display_data"
    }
   ],
   "source": [
    "# compare signal correlation to fraction of GABAergic neurons\n",
    "red = np.array([stat[n]['redcell'][0][0][0] for n in range(len(stat))]) # extract boolean variable (is this neuron GABA?)\n",
    "\n",
    "V = vs\n",
    "V = zscore(V, axis=0)\n",
    "cc = np.mean(V[2940:, :] * V[:2940, :], axis=0)\n",
    "\n",
    "spW = np.sum(W>0, axis=1)\n",
    "redness = np.array([np.mean(red[W[:,n]>0]) for n in range(W.shape[1])])\n",
    "plt.scatter(cc, redness)\n",
    "\n",
    "plt.xlabel('signal correlation')\n",
    "plt.ylabel('fraction of GABA-ergic neurons')\n",
    "plt.title('GAD neurons in ensembles')\n",
    "plt.show()\n",
    "\n"
   ]
  },
  {
   "cell_type": "code",
   "execution_count": 696,
   "metadata": {},
   "outputs": [
    {
     "ename": "AttributeError",
     "evalue": "'list' object has no attribute 'shape'",
     "output_type": "error",
     "traceback": [
      "\u001b[1;31m---------------------------------------------------------------------------\u001b[0m",
      "\u001b[1;31mAttributeError\u001b[0m                            Traceback (most recent call last)",
      "\u001b[1;32m<ipython-input-696-86d2e91fbc98>\u001b[0m in \u001b[0;36m<module>\u001b[1;34m\u001b[0m\n\u001b[1;32m----> 1\u001b[1;33m \u001b[0mred\u001b[0m\u001b[1;33m.\u001b[0m\u001b[0mshape\u001b[0m\u001b[1;33m\u001b[0m\u001b[1;33m\u001b[0m\u001b[0m\n\u001b[0m",
      "\u001b[1;31mAttributeError\u001b[0m: 'list' object has no attribute 'shape'"
     ]
    }
   ],
   "source": [
    "red.shape"
   ]
  },
  {
   "cell_type": "markdown",
   "metadata": {},
   "source": [
    "# Figure out how to get behavior for these old datasets\n",
    "At very least we have spontaneous activity so we can compute variance of ensemble during spontaneous activity"
   ]
  },
  {
   "cell_type": "markdown",
   "metadata": {},
   "source": [
    "# Extract receptive fields "
   ]
  },
  {
   "cell_type": "code",
   "execution_count": null,
   "metadata": {},
   "outputs": [],
   "source": [
    "# to do (Maria): add the receptive field estimation to this notebook\n",
    "# do NOT use classes, so that functions can be called on any array"
   ]
  },
  {
   "cell_type": "markdown",
   "metadata": {},
   "source": [
    "# Ideas on what to do"
   ]
  },
  {
   "cell_type": "markdown",
   "metadata": {},
   "source": [
    "You can modify the pipeline to fit other unsupervised models from sklearn for example. There are tons of unsupervised models on sklearn, such as PCA, sparsePCA, Latent Dirichlet Allocation, NMF and so forth. See some of the results from our poster https://github.com/mariakesa/EnsemblePursuit/blob/master/SAND9Poster Feel free to play around with the code and modify it as needed. "
   ]
  }
 ],
 "metadata": {
  "kernelspec": {
   "display_name": "Python 3",
   "language": "python",
   "name": "python3"
  },
  "language_info": {
   "codemirror_mode": {
    "name": "ipython",
    "version": 3
   },
   "file_extension": ".py",
   "mimetype": "text/x-python",
   "name": "python",
   "nbconvert_exporter": "python",
   "pygments_lexer": "ipython3",
   "version": "3.7.3"
  }
 },
 "nbformat": 4,
 "nbformat_minor": 2
}
