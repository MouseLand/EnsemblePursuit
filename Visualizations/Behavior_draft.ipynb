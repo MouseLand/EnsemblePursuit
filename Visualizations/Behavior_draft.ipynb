{
 "cells": [
  {
   "cell_type": "code",
   "execution_count": 1,
   "metadata": {},
   "outputs": [],
   "source": [
    "import os # os stands for \"operating system\" and includes read/write routines etc. \n",
    "import numpy as np # by far the most used library for everyday computation\n",
    "from scipy import stats # here we import a whole sub-library of stats functions\n",
    "from scipy.ndimage import gaussian_filter, gaussian_filter1d # here we import a single function\n",
    "from sklearn.decomposition import PCA # check out all the other dimensionality reduction methods in \"decomposition\"\n",
    "from matplotlib import pyplot as plt # all of our plotting is done with plt\n",
    "%matplotlib inline "
   ]
  },
  {
   "cell_type": "code",
   "execution_count": 2,
   "metadata": {},
   "outputs": [],
   "source": [
    "# this function performs a running average filter over the first dimension of X\n",
    "# (faster than doing gaussian filtering)\n",
    "def running_average(X, nbin = 100):\n",
    "    Y = np.cumsum(X, axis=0)\n",
    "    Y = Y[nbin:, :] - Y[:-nbin, :]\n",
    "    return Y\n",
    "\n",
    "# * set root to the location where you downloaded the data *\n",
    "root      ='/media/maria/DATA1/Documents/data_for_suite2p/'\n",
    "\n",
    "# LOAD the visual stimuli \"mov\" and the timings \"iframe\"\n",
    "mov    = np.load(os.path.join(root, 'mov.npy')) # these are the visual stimuli shown\n",
    "iframe = np.load(os.path.join(root, 'iframe.npy')) # iframe[n] is the microscope frame for the image frame n\n",
    "\n",
    "# LOAD the neural data\n",
    "spks = np.load(os.path.join(root, 'spks.npy')) # deconvolved data\n",
    "stat = np.load(os.path.join(root, 'stat.npy'), allow_pickle=True) # these are the per-neuron stats returned by suite2p\n",
    "# these are the neurons' 2D coordinates\n",
    "ypos = np.array([stat[n]['med'][0] for n in range(len(stat))]) \n",
    "# (notice the python list comprehension [X(n) for n in range(N)])\n",
    "xpos = np.array([stat[n]['med'][1] for n in range(len(stat))]) \n",
    "\n",
    "del stat # we delete stat because we don't need any other fields from it\n",
    "\n",
    "\n",
    "# align stimuli to spks (since stimuli are triggered by microscope it's easy)\n",
    "dt = 1 # time offset between stimulus presentation and response\n",
    "ivalid = iframe+dt<spks.shape[-1] # remove timepoints outside the valid time range\n",
    "iframe = iframe[ivalid]\n",
    "mov = mov[:, :, ivalid]\n",
    "S = spks[:, iframe+dt]\n",
    "del spks\n",
    "S = stats.zscore(S, axis=1) # z-score the neural activity before doing anything\n",
    "\n",
    "proc = np.load(os.path.join(root, 'cam1_TX39_2019_05_31_1_proc_resampled.npy'), allow_pickle=True).item()\n",
    "motSVD = proc['motSVD'][:,iframe+dt]\n",
    "parea = proc['pupil']['area'][0][iframe+dt].copy()"
   ]
  },
  {
   "cell_type": "code",
   "execution_count": 3,
   "metadata": {},
   "outputs": [],
   "source": [
    "# bin data\n",
    "tbin = 3.0\n",
    "NT = motSVD.shape[1]\n",
    "nt = int(np.floor(NT/tbin))\n",
    "motSVD -= motSVD.mean(axis=1)[:,np.newaxis]\n",
    "parea  -= np.nanmean(parea)\n",
    "parea[np.isnan(parea)] = 0\n",
    "tbin = int(tbin)\n",
    "\n",
    "beh = np.reshape(motSVD[:,:nt*tbin], (motSVD.shape[0], nt, tbin)).mean(axis=-1)\n",
    "pup = np.reshape(parea[:nt*tbin], (nt, tbin)).mean(axis=-1)\n",
    "\n",
    "# using this format bin S\n",
    "Sbin = np.reshape(S[:,:nt*tbin], (S.shape[0], nt, tbin)).mean(axis=-1)\n"
   ]
  },
  {
   "cell_type": "code",
   "execution_count": 4,
   "metadata": {
    "scrolled": false
   },
   "outputs": [
    {
     "name": "stdout",
     "output_type": "stream",
     "text": [
      "(18795, 10186)\n"
     ]
    },
    {
     "data": {
      "text/plain": [
       "[<matplotlib.lines.Line2D at 0x7f720fc6ffd0>]"
      ]
     },
     "execution_count": 4,
     "metadata": {},
     "output_type": "execute_result"
    },
    {
     "data": {
      "image/png": "[encoded data removed]",
      "text/plain": [
       "<Figure size 432x288 with 1 Axes>"
      ]
     },
     "metadata": {
      "needs_background": "light"
     },
     "output_type": "display_data"
    }
   ],
   "source": [
    "print(Sbin.shape)\n",
    "plt.plot(Sbin[0,:])"
   ]
  },
  {
   "cell_type": "code",
   "execution_count": 5,
   "metadata": {},
   "outputs": [],
   "source": [
    "np.save('Sbin.npy',Sbin)"
   ]
  },
  {
   "cell_type": "code",
   "execution_count": 6,
   "metadata": {},
   "outputs": [],
   "source": [
    "'''\n",
    "import sys\n",
    "sys.path.append(\"..\")\n",
    "from EnsemblePursuitModule.EnsemblePursuitNumpy import EnsemblePursuitNumpy\n",
    "import numpy as np\n",
    "import time\n",
    "options_dict={'seed_neuron_av_nr':100,'min_assembly_size':8}\n",
    "Sbin=np.load('Sbin.npy')\n",
    "#ep_pt=EnsemblePursuitNumpy(n_ensembles=300,lambd=0.005,options_dict=options_dict)\n",
    "ep_pt=EnsemblePursuitNumpy(n_ensembles=20,lambd=0.05,options_dict=options_dict)\n",
    "start=time.time()\n",
    "U,V=ep_pt.fit_transform(Sbin)\n",
    "end=time.time()\n",
    "np.save('U_binned.npy',U)\n",
    "np.save('V_binned.npy',V)'''\n",
    "U=np.load('U_binned.npy')\n",
    "V=np.load('V_binned.npy')"
   ]
  },
  {
   "cell_type": "code",
   "execution_count": 7,
   "metadata": {},
   "outputs": [
    {
     "data": {
      "image/png": "[encoded data removed]",
      "text/plain": [
       "<Figure size 432x288 with 1 Axes>"
      ]
     },
     "metadata": {
      "needs_background": "light"
     },
     "output_type": "display_data"
    }
   ],
   "source": [
    "\n",
    "# split into train-test\n",
    "# * use interleaved segments *\n",
    "nsegs = 20\n",
    "nlen  = nt/nsegs\n",
    "ninds = np.linspace(0,nt-nlen,nsegs).astype(int)\n",
    "itest = (ninds[:,np.newaxis] + np.arange(0,nlen*0.25,1,int)).flatten()\n",
    "itrain = np.ones(nt, np.bool)\n",
    "itrain[itest] = 0\n",
    "\n",
    "plt.plot(itrain)\n",
    "plt.show()"
   ]
  },
  {
   "cell_type": "code",
   "execution_count": 9,
   "metadata": {},
   "outputs": [],
   "source": [
    "\n",
    "#### PREDICT USING PUPIL WITH LINEAR REGRESSION\n",
    "V=V.T\n",
    "A = np.matmul(pup[itrain], V[:,itrain].T)/(pup**2).sum()\n",
    "\n",
    "Vpredp = np.matmul(A[:,np.newaxis], pup[itest][np.newaxis,:])\n",
    "\n",
    "varexp_pupil = 1 - ((Vpredp - V[:,itest])**2).sum(axis=1)/(V[:,itest]**2).sum(axis=1)\n",
    "\n",
    "#### PREDICT USING BEHAVIOR PC'S \n",
    "## regularized linear regression from behavior to neural PCs\n",
    "covM = np.matmul(beh[:,itrain], beh[:,itrain].T)\n",
    "lam = 1e5 # regularizer\n",
    "covM += lam*np.eye(beh.shape[0])\n",
    "A = np.linalg.solve(covM, np.matmul(beh[:,itrain], V[:,itrain].T))\n",
    "\n",
    "Vpred = np.matmul(A.T, beh[:,itest])\n",
    "\n",
    "varexp = 1 - ((Vpred - V[:,itest])**2).sum(axis=1)/(V[:,itest]**2).sum(axis=1)"
   ]
  },
  {
   "cell_type": "code",
   "execution_count": 10,
   "metadata": {},
   "outputs": [
    {
     "name": "stdout",
     "output_type": "stream",
     "text": [
      "[ 0.28688373  0.75164839  0.09244696  0.13026069  0.26454573  0.19060354\n",
      "  0.03473781  0.27427964  0.12247447  0.27620883  0.07542552  0.07997336\n",
      "  0.17180883  0.0325569   0.05252863  0.04272352 -0.03653696  0.40201474\n",
      "  0.14060005  0.53075595]\n"
     ]
    }
   ],
   "source": [
    "print(varexp)"
   ]
  }
 ],
 "metadata": {
  "kernelspec": {
   "display_name": "Python 3",
   "language": "python",
   "name": "python3"
  },
  "language_info": {
   "codemirror_mode": {
    "name": "ipython",
    "version": 3
   },
   "file_extension": ".py",
   "mimetype": "text/x-python",
   "name": "python",
   "nbconvert_exporter": "python",
   "pygments_lexer": "ipython3",
   "version": "3.7.3"
  }
 },
 "nbformat": 4,
 "nbformat_minor": 2
}
