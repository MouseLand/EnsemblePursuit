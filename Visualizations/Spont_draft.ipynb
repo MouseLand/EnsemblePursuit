{
 "cells": [
  {
   "cell_type": "code",
   "execution_count": 1,
   "metadata": {},
   "outputs": [],
   "source": [
    "import scipy.io as sio\n",
    "import numpy as np\n",
    "mt = sio.loadmat('/home/maria/Documents/EnsemblePursuit/BehaviorData/spont_M161025_MP030_20161120.mat')\n",
    "spks = mt['Fsp']                   # neurons by timepoints\n",
    "med = mt['med']                 # cell centers (X Y Z)\n",
    "\n",
    "### behavioral measures\n",
    "runSpeed = mt['beh']['runSpeed']    # running speed\n",
    "# get motion SVDs (time x components)\n",
    "motionSVD=np.array(mt['beh'][0]['face'][0]['motionSVD'][0][0])"
   ]
  },
  {
   "cell_type": "code",
   "execution_count": 2,
   "metadata": {},
   "outputs": [
    {
     "name": "stdout",
     "output_type": "stream",
     "text": [
      "(10164, 15761)\n"
     ]
    }
   ],
   "source": [
    "print(spks.shape)"
   ]
  },
  {
   "cell_type": "code",
   "execution_count": 3,
   "metadata": {},
   "outputs": [
    {
     "ename": "KeyboardInterrupt",
     "evalue": "",
     "output_type": "error",
     "traceback": [
      "\u001b[0;31m---------------------------------------------------------------------------\u001b[0m",
      "\u001b[0;31mKeyboardInterrupt\u001b[0m                         Traceback (most recent call last)",
      "\u001b[0;32m<ipython-input-3-7c067faf46ff>\u001b[0m in \u001b[0;36m<module>\u001b[0;34m\u001b[0m\n\u001b[1;32m      7\u001b[0m \u001b[0;31m#ep_pt=EnsemblePursuitNumpy(n_ensembles=300,lambd=0.005,options_dict=options_dict)\u001b[0m\u001b[0;34m\u001b[0m\u001b[0;34m\u001b[0m\u001b[0;34m\u001b[0m\u001b[0m\n\u001b[1;32m      8\u001b[0m \u001b[0mep_np\u001b[0m\u001b[0;34m=\u001b[0m\u001b[0mEnsemblePursuitNumpy\u001b[0m\u001b[0;34m(\u001b[0m\u001b[0mn_ensembles\u001b[0m\u001b[0;34m=\u001b[0m\u001b[0;36m150\u001b[0m\u001b[0;34m,\u001b[0m\u001b[0mlambd\u001b[0m\u001b[0;34m=\u001b[0m\u001b[0;36m0.01\u001b[0m\u001b[0;34m,\u001b[0m\u001b[0moptions_dict\u001b[0m\u001b[0;34m=\u001b[0m\u001b[0moptions_dict\u001b[0m\u001b[0;34m)\u001b[0m\u001b[0;34m\u001b[0m\u001b[0;34m\u001b[0m\u001b[0m\n\u001b[0;32m----> 9\u001b[0;31m \u001b[0mU\u001b[0m\u001b[0;34m,\u001b[0m\u001b[0mV\u001b[0m\u001b[0;34m=\u001b[0m\u001b[0mep_np\u001b[0m\u001b[0;34m.\u001b[0m\u001b[0mfit_transform\u001b[0m\u001b[0;34m(\u001b[0m\u001b[0mspks\u001b[0m\u001b[0;34m)\u001b[0m\u001b[0;34m\u001b[0m\u001b[0;34m\u001b[0m\u001b[0m\n\u001b[0m",
      "\u001b[0;32m~/Documents/EnsemblePursuit/EnsemblePursuitModule/EnsemblePursuitNumpy.py\u001b[0m in \u001b[0;36mfit_transform\u001b[0;34m(self, X)\u001b[0m\n\u001b[1;32m    132\u001b[0m         \u001b[0mself\u001b[0m\u001b[0;34m.\u001b[0m\u001b[0mV\u001b[0m\u001b[0;34m=\u001b[0m\u001b[0mnp\u001b[0m\u001b[0;34m.\u001b[0m\u001b[0mzeros\u001b[0m\u001b[0;34m(\u001b[0m\u001b[0;34m(\u001b[0m\u001b[0;36m1\u001b[0m\u001b[0;34m,\u001b[0m\u001b[0mX\u001b[0m\u001b[0;34m.\u001b[0m\u001b[0mshape\u001b[0m\u001b[0;34m[\u001b[0m\u001b[0;36m1\u001b[0m\u001b[0;34m]\u001b[0m\u001b[0;34m)\u001b[0m\u001b[0;34m)\u001b[0m\u001b[0;34m\u001b[0m\u001b[0;34m\u001b[0m\u001b[0m\n\u001b[1;32m    133\u001b[0m         \u001b[0;32mfor\u001b[0m \u001b[0miteration\u001b[0m \u001b[0;32min\u001b[0m \u001b[0mrange\u001b[0m\u001b[0;34m(\u001b[0m\u001b[0;36m0\u001b[0m\u001b[0;34m,\u001b[0m\u001b[0mself\u001b[0m\u001b[0;34m.\u001b[0m\u001b[0mn_ensembles\u001b[0m\u001b[0;34m)\u001b[0m\u001b[0;34m:\u001b[0m\u001b[0;34m\u001b[0m\u001b[0;34m\u001b[0m\u001b[0m\n\u001b[0;32m--> 134\u001b[0;31m             \u001b[0mcurrent_u\u001b[0m\u001b[0;34m,\u001b[0m \u001b[0mcurrent_v\u001b[0m\u001b[0;34m=\u001b[0m\u001b[0mself\u001b[0m\u001b[0;34m.\u001b[0m\u001b[0mfit_one_ensemble\u001b[0m\u001b[0;34m(\u001b[0m\u001b[0mX\u001b[0m\u001b[0;34m)\u001b[0m\u001b[0;34m\u001b[0m\u001b[0;34m\u001b[0m\u001b[0m\n\u001b[0m\u001b[1;32m    135\u001b[0m             \u001b[0mU_V\u001b[0m\u001b[0;34m=\u001b[0m\u001b[0mcurrent_u\u001b[0m\u001b[0;34m.\u001b[0m\u001b[0mreshape\u001b[0m\u001b[0;34m(\u001b[0m\u001b[0mself\u001b[0m\u001b[0;34m.\u001b[0m\u001b[0msz\u001b[0m\u001b[0;34m[\u001b[0m\u001b[0;36m0\u001b[0m\u001b[0;34m]\u001b[0m\u001b[0;34m,\u001b[0m\u001b[0;36m1\u001b[0m\u001b[0;34m)\u001b[0m\u001b[0;34m@\u001b[0m\u001b[0mcurrent_v\u001b[0m\u001b[0;34m.\u001b[0m\u001b[0mreshape\u001b[0m\u001b[0;34m(\u001b[0m\u001b[0;36m1\u001b[0m\u001b[0;34m,\u001b[0m\u001b[0mself\u001b[0m\u001b[0;34m.\u001b[0m\u001b[0msz\u001b[0m\u001b[0;34m[\u001b[0m\u001b[0;36m1\u001b[0m\u001b[0;34m]\u001b[0m\u001b[0;34m)\u001b[0m\u001b[0;34m\u001b[0m\u001b[0;34m\u001b[0m\u001b[0m\n\u001b[1;32m    136\u001b[0m             \u001b[0mX\u001b[0m\u001b[0;34m=\u001b[0m\u001b[0mX\u001b[0m\u001b[0;34m-\u001b[0m\u001b[0mU_V\u001b[0m\u001b[0;34m\u001b[0m\u001b[0;34m\u001b[0m\u001b[0m\n",
      "\u001b[0;32m~/Documents/EnsemblePursuit/EnsemblePursuitModule/EnsemblePursuitNumpy.py\u001b[0m in \u001b[0;36mfit_one_ensemble\u001b[0;34m(self, X)\u001b[0m\n\u001b[1;32m     41\u001b[0m     \u001b[0;32mdef\u001b[0m \u001b[0mfit_one_ensemble\u001b[0m\u001b[0;34m(\u001b[0m\u001b[0mself\u001b[0m\u001b[0;34m,\u001b[0m\u001b[0mX\u001b[0m\u001b[0;34m)\u001b[0m\u001b[0;34m:\u001b[0m\u001b[0;34m\u001b[0m\u001b[0;34m\u001b[0m\u001b[0m\n\u001b[1;32m     42\u001b[0m         \u001b[0mstart\u001b[0m\u001b[0;34m=\u001b[0m\u001b[0mtime\u001b[0m\u001b[0;34m.\u001b[0m\u001b[0mtime\u001b[0m\u001b[0;34m(\u001b[0m\u001b[0;34m)\u001b[0m\u001b[0;34m\u001b[0m\u001b[0;34m\u001b[0m\u001b[0m\n\u001b[0;32m---> 43\u001b[0;31m         \u001b[0mC\u001b[0m\u001b[0;34m=\u001b[0m\u001b[0mX\u001b[0m\u001b[0;34m@\u001b[0m\u001b[0mX\u001b[0m\u001b[0;34m.\u001b[0m\u001b[0mT\u001b[0m\u001b[0;34m\u001b[0m\u001b[0;34m\u001b[0m\u001b[0m\n\u001b[0m\u001b[1;32m     44\u001b[0m         \u001b[0mend\u001b[0m\u001b[0;34m=\u001b[0m\u001b[0mtime\u001b[0m\u001b[0;34m.\u001b[0m\u001b[0mtime\u001b[0m\u001b[0;34m(\u001b[0m\u001b[0;34m)\u001b[0m\u001b[0;34m\u001b[0m\u001b[0;34m\u001b[0m\u001b[0m\n\u001b[1;32m     45\u001b[0m         \u001b[0;31m#A parameter to account for how many top neurons we sample from. It starts from 1,\u001b[0m\u001b[0;34m\u001b[0m\u001b[0;34m\u001b[0m\u001b[0;34m\u001b[0m\u001b[0m\n",
      "\u001b[0;31mKeyboardInterrupt\u001b[0m: "
     ]
    }
   ],
   "source": [
    "import sys\n",
    "sys.path.append(\"..\")\n",
    "from EnsemblePursuitModule.EnsemblePursuitNumpy import EnsemblePursuitNumpy\n",
    "import numpy as np\n",
    "import time\n",
    "options_dict={'seed_neuron_av_nr':100,'min_assembly_size':8}\n",
    "#ep_pt=EnsemblePursuitNumpy(n_ensembles=300,lambd=0.005,options_dict=options_dict)\n",
    "ep_np=EnsemblePursuitNumpy(n_ensembles=150,lambd=0.01,options_dict=options_dict)\n",
    "U,V=ep_np.fit_transform(spks)"
   ]
  },
  {
   "cell_type": "code",
   "execution_count": null,
   "metadata": {},
   "outputs": [],
   "source": [
    "bundle={'U':U,'V':V}\n",
    "#np.save('beh_ep.npy',bundle)\n"
   ]
  },
  {
   "cell_type": "code",
   "execution_count": null,
   "metadata": {},
   "outputs": [],
   "source": [
    "U=np.load('beh_ep.npy',allow_pickle=True)[()]['U']\n",
    "print(U)\n",
    "V=np.load('beh_ep.npy',allow_pickle=True)[()]['V']"
   ]
  },
  {
   "cell_type": "code",
   "execution_count": null,
   "metadata": {
    "scrolled": true
   },
   "outputs": [],
   "source": [
    "from Pipelines.SingleMousePipeline import ModelPipelineSingleMouse\n",
    "pipeline=ModelPipelineSingleMouse('/home/maria/Documents/EnsemblePursuit/BehaviorData/','spont_M161025_MP030_20161120.mat','EnsemblePursuit_numpy',150)\n",
    "pipeline.variance_explained_across_neurons(U,V)"
   ]
  },
  {
   "cell_type": "code",
   "execution_count": null,
   "metadata": {},
   "outputs": [],
   "source": [
    "from utils import zscore\n",
    "import matplotlib.pyplot as plt\n",
    "def variance_explained_across_neurons(spks,U,V):\n",
    "    '''\n",
    "    The coefficient R^2 is defined as (1 - u/v), where u is the residual sum of squares\n",
    "    ((y_true - y_pred) ** 2).sum() and v is the total sum of squares\n",
    "    ((y_true - y_true.mean()) ** 2).sum().\n",
    "    '''\n",
    "    #Fetch the original data and convert it into the same form as what goes into the\n",
    "    #matrix factorization model\n",
    "    X=zscore(spks.T).T\n",
    "    u=[]\n",
    "    v=[]\n",
    "    approx=U@V.T\n",
    "    for j in range(X.shape[0]):\n",
    "        u_j=((X[j,:]-approx[j,:])**2).sum()\n",
    "        v_j=((X[j,:]-np.mean(X[j,:]))**2).sum()\n",
    "        u.append(u_j)\n",
    "        v.append(v_j)\n",
    "    u=np.array(u)\n",
    "    v=np.array(v)\n",
    "    plt.plot(-np.divide(u,v)+1)\n",
    "    plt.title('Variance explained across neurons')\n",
    "    plt.show()\n",
    "    print('Total variance explained, averaged over neurons is:',(1-np.mean(u)/np.mean(v)))\n",
    "\n",
    "variance_explained_across_neurons(spks,U,V)\n"
   ]
  },
  {
   "cell_type": "code",
   "execution_count": null,
   "metadata": {
    "scrolled": true
   },
   "outputs": [],
   "source": [
    "beh=motionSVD\n",
    "motSVD=motionSVD.T\n",
    "print(motSVD.shape)\n",
    "print(V.shape)\n",
    "parea =np.array(mt['beh'][0]['pupil'][0]['area'][0][0])\n",
    "S=spks\n",
    "import matplotlib.pyplot as plt\n",
    "tbin = 1.0\n",
    "NT = motSVD.shape[1]\n",
    "nt = int(np.floor(NT/tbin))\n",
    "motSVD -= motSVD.mean(axis=1)[:,np.newaxis]\n",
    "parea  -= np.nanmean(parea)\n",
    "parea[np.isnan(parea)] = 0\n",
    "tbin = int(tbin)\n",
    "\n",
    "beh = np.reshape(motSVD[:,:nt*tbin], (motSVD.shape[0], nt, tbin)).mean(axis=-1)\n",
    "pup = np.reshape(parea[:nt*tbin], (nt, tbin)).mean(axis=-1)\n",
    "\n",
    "# using this format bin S\n",
    "Sbin = np.reshape(S[:,:nt*tbin], (S.shape[0], nt, tbin)).mean(axis=-1)\n",
    "# split into train-test\n",
    "# * use interleaved segments *\n",
    "nsegs = 20\n",
    "nlen  = nt/nsegs\n",
    "ninds = np.linspace(0,nt-nlen,nsegs).astype(int)\n",
    "itest = (ninds[:,np.newaxis] + np.arange(0,nlen*0.25,1,int)).flatten()\n",
    "itrain = np.ones(nt, np.bool)\n",
    "itrain[itest] = 0\n",
    "\n",
    "plt.plot(itrain)\n",
    "plt.show()\n",
    "\n",
    "#### PREDICT USING PUPIL WITH LINEAR REGRESSION\n",
    "V=V.T\n",
    "#pup =np.array(mt['beh'][0]['pupil'][0]['area'][0][0]) \n",
    "A = np.matmul(pup[itrain], V[:,itrain].T)/(pup**2).sum()\n",
    "\n",
    "Vpredp = np.matmul(A[:,np.newaxis], pup[itest][np.newaxis,:])\n",
    "\n",
    "varexp_pupil = 1 - ((Vpredp - V[:,itest])**2).sum(axis=1)/(V[:,itest]**2).sum(axis=1)\n",
    "\n",
    "#### PREDICT USING BEHAVIOR PC'S \n",
    "## regularized linear regression from behavior to neural PCs\n",
    "covM = np.matmul(beh[:,itrain], beh[:,itrain].T)\n",
    "lam = 1e5 # regularizer\n",
    "covM += lam*np.eye(beh.shape[0])\n",
    "A = np.linalg.solve(covM, np.matmul(beh[:,itrain], V[:,itrain].T))\n",
    "\n",
    "Vpred = np.matmul(A.T, beh[:,itest])\n",
    "\n",
    "varexp = 1 - ((Vpred - V[:,itest])**2).sum(axis=1)/(V[:,itest]**2).sum(axis=1)"
   ]
  },
  {
   "cell_type": "code",
   "execution_count": null,
   "metadata": {},
   "outputs": [],
   "source": [
    "fig=plt.figure(figsize=(12,3))\n",
    "\n",
    "ipc = 1 ### which PC to plot\n",
    "\n",
    "ax = fig.add_axes([0.05,.05,.75,.95])\n",
    "ax.plot(V[ipc,itest], label='neural PC')\n",
    "ax.plot(Vpred[ipc], color='k', label='face PC prediction')\n",
    "ax.set_title('PC %d'%ipc)\n",
    "ax.set_xlabel('time')\n",
    "ax.set_ylabel('activity')\n",
    "ax.legend()\n",
    "\n",
    "ax = fig.add_axes([0.9,.05, .2, .8])\n",
    "ax.semilogx(np.arange(1,varexp.size+1), varexp, color='k')\n",
    "ax.scatter(ipc+1, varexp[ipc],marker='x',color='r',s=200, lw=4, zorder=10)\n",
    "ax.semilogx(np.arange(1,varexp.size+1), varexp_pupil, color=[0.,.5,0])\n",
    "ax.text(1,0,'pupil',color=[0,.5,0])\n",
    "ax.text(10,0.2,'motion SVD')\n",
    "ax.set_xlabel('PC')\n",
    "ax.set_ylabel('fraction variance explained')\n",
    "ax.set_title('PC %d, varexp=%0.2f'%(ipc,varexp[ipc]))\n",
    "plt.show()"
   ]
  }
 ],
 "metadata": {
  "kernelspec": {
   "display_name": "Python 3",
   "language": "python",
   "name": "python3"
  },
  "language_info": {
   "codemirror_mode": {
    "name": "ipython",
    "version": 3
   },
   "file_extension": ".py",
   "mimetype": "text/x-python",
   "name": "python",
   "nbconvert_exporter": "python",
   "pygments_lexer": "ipython3",
   "version": "3.7.3"
  }
 },
 "nbformat": 4,
 "nbformat_minor": 2
}
