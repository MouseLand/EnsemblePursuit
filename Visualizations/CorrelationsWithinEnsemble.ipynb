{
 "cells": [
  {
   "cell_type": "code",
   "execution_count": 9,
   "metadata": {},
   "outputs": [],
   "source": [
    "import numpy as np\n",
    "import matplotlib.pyplot as plt\n",
    "from scipy import io\n",
    "%matplotlib inline\n",
    "import sys\n",
    "sys.path.append(\"..\")\n",
    "from utils import test_train_split, evaluate_model_torch, subtract_spont, corrcoef, PCA,zscore"
   ]
  },
  {
   "cell_type": "code",
   "execution_count": 10,
   "metadata": {},
   "outputs": [],
   "source": [
    "U=np.load('/home/maria/Documents/EnsemblePursuit/SAND9/experiments/natimg2800_M170717_MP034_2017-09-11.mat_U_ep_pytorch.npy')\n",
    "V=np.load('/home/maria/Documents/EnsemblePursuit/SAND9/experiments/natimg2800_M170717_MP034_2017-09-11.mat_V_ep_pytorch.npy')\n"
   ]
  },
  {
   "cell_type": "code",
   "execution_count": 11,
   "metadata": {},
   "outputs": [
    {
     "name": "stdout",
     "output_type": "stream",
     "text": [
      "(10103, 150)\n",
      "(5880, 150)\n"
     ]
    }
   ],
   "source": [
    "print(U.shape)\n",
    "print(V.shape)"
   ]
  },
  {
   "cell_type": "code",
   "execution_count": 12,
   "metadata": {},
   "outputs": [
    {
     "name": "stderr",
     "output_type": "stream",
     "text": [
      "/home/maria/anaconda3/lib/python3.6/site-packages/numpy/core/_methods.py:138: RuntimeWarning: invalid value encountered in sqrt\n",
      "  ret = um.sqrt(ret, out=ret)\n"
     ]
    },
    {
     "name": "stdout",
     "output_type": "stream",
     "text": [
      "(10103, 5880)\n"
     ]
    }
   ],
   "source": [
    "data = io.loadmat('/home/maria/Documents/EnsemblePursuit/SAND9/data/natimg2800_M170717_MP034_2017-09-11.mat')\n",
    "resp = data['stim'][0]['resp'][0]\n",
    "spont =data['stim'][0]['spont'][0]\n",
    "X=subtract_spont(spont,resp).T\n",
    "print(X.shape)"
   ]
  },
  {
   "cell_type": "code",
   "execution_count": 13,
   "metadata": {},
   "outputs": [
    {
     "name": "stdout",
     "output_type": "stream",
     "text": [
      "(1431,)\n",
      "[[-0.6698657  -0.636876   -0.515051   ... -0.787012   -0.5744905\n",
      "  -0.71434593]\n",
      " [-0.6050052  -0.7082599  -0.62539995 ... -0.87212145 -0.79257673\n",
      "  -0.89458376]\n",
      " [ 1.8372207  -0.40177548 -0.54954284 ... -0.4324063  -0.40221697\n",
      "  -0.492805  ]\n",
      " ...\n",
      " [ 0.59666324 -0.7475455   0.82914644 ...  1.0056405  -0.8163344\n",
      "   0.53746325]\n",
      " [-0.39192972 -0.59896755 -0.7383391  ... -1.0460246   0.15649427\n",
      "  -0.34880286]\n",
      " [ 0.51512265 -0.70892954  2.9017665  ... -0.84788203 -0.9632763\n",
      "  -1.1472687 ]]\n",
      "(array([    2,     3,     9, ..., 10091, 10099, 10100]),)\n"
     ]
    },
    {
     "data": {
      "text/plain": [
       "(array([ 288., 5276., 3412.,  650.,  178.,   70.,   14.,    6.,    0.,\n",
       "           6.]),\n",
       " array([-0.05498524, -0.00659377,  0.0417977 ,  0.09018917,  0.13858064,\n",
       "         0.18697211,  0.23536358,  0.28375505,  0.33214652,  0.38053799,\n",
       "         0.42892946]),\n",
       " <a list of 10 Patch objects>)"
      ]
     },
     "execution_count": 13,
     "metadata": {},
     "output_type": "execute_result"
    },
    {
     "data": {
      "image/png": "[encoded data removed]",
      "text/plain": [
       "<Figure size 432x288 with 1 Axes>"
      ]
     },
     "metadata": {},
     "output_type": "display_data"
    }
   ],
   "source": [
    "neurons=np.nonzero(U[:,0])\n",
    "print(neurons[0].shape)\n",
    "ensemble_X=X[neurons,:][0]\n",
    "print(ensemble_X)\n",
    "print(neurons)\n",
    "#for j in range(0,10):\n",
    "    #plt.plot(ensemble_X[j,0:200])\n",
    "    #plt.show()\n",
    "\n",
    "corr_lst=[]\n",
    "for i in range(0,100):\n",
    "    for j in range(0,100):\n",
    "        if j!=i:\n",
    "            #print(j,i)\n",
    "            corr_lst.append(np.corrcoef(ensemble_X[j,:],ensemble_X[i,:])[0,1])\n",
    "#print(corr_lst)\n",
    "plt.hist(corr_lst)"
   ]
  }
 ],
 "metadata": {
  "kernelspec": {
   "display_name": "Python 3",
   "language": "python",
   "name": "python3"
  },
  "language_info": {
   "codemirror_mode": {
    "name": "ipython",
    "version": 3
   },
   "file_extension": ".py",
   "mimetype": "text/x-python",
   "name": "python",
   "nbconvert_exporter": "python",
   "pygments_lexer": "ipython3",
   "version": "3.6.5"
  }
 },
 "nbformat": 4,
 "nbformat_minor": 2
}
