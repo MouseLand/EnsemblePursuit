{
 "cells": [
  {
   "cell_type": "code",
   "execution_count": 2,
   "metadata": {},
   "outputs": [],
   "source": [
    "import numpy as np\n",
    "from scipy import io\n",
    "import sys\n",
    "sys.path.append(\"..\")\n",
    "from utils import test_train_split, evaluate_model_torch, subtract_spont, corrcoef, PCA,zscore\n",
    "from sklearn.cluster import KMeans"
   ]
  },
  {
   "cell_type": "code",
   "execution_count": 76,
   "metadata": {},
   "outputs": [
    {
     "name": "stderr",
     "output_type": "stream",
     "text": [
      "/home/maria/anaconda3/lib/python3.6/site-packages/numpy/core/_methods.py:138: RuntimeWarning: invalid value encountered in sqrt\n",
      "  ret = um.sqrt(ret, out=ret)\n"
     ]
    },
    {
     "name": "stdout",
     "output_type": "stream",
     "text": [
      "(5880, 1)\n",
      "[[   3]\n",
      " [ 251]\n",
      " [1240]\n",
      " ...\n",
      " [1371]\n",
      " [2205]\n",
      " [2646]]\n",
      "[[   3]\n",
      " [ 251]\n",
      " [1240]\n",
      " ...\n",
      " [1371]\n",
      " [2205]\n",
      " [2646]]\n"
     ]
    }
   ],
   "source": [
    "U=np.load('/home/maria/Documents/EnsemblePursuit/SAND9/experiments/natimg2800_M170717_MP034_2017-09-11.mat_U_ep_pytorch.npy')\n",
    "V=np.load('/home/maria/Documents/EnsemblePursuit/SAND9/experiments/natimg2800_M170717_MP034_2017-09-11.mat_V_ep_pytorch.npy').T\n",
    "data = io.loadmat('/home/maria/Documents/EnsemblePursuit/SAND9/data/natimg2800_M170717_MP034_2017-09-11.mat')\n",
    "resp = data['stim'][0]['resp'][0]\n",
    "spont =data['stim'][0]['spont'][0]\n",
    "stims=data['stim']['istim'][0][0]\n",
    "X=subtract_spont(spont,resp)\n",
    "X=zscore(X).T\n",
    "print(stims.shape)\n",
    "print(stims[:2940])\n",
    "print(stims[2940:])"
   ]
  },
  {
   "cell_type": "code",
   "execution_count": 77,
   "metadata": {},
   "outputs": [
    {
     "name": "stdout",
     "output_type": "stream",
     "text": [
      "5880\n"
     ]
    }
   ],
   "source": [
    "print(2940*2)"
   ]
  },
  {
   "cell_type": "code",
   "execution_count": 4,
   "metadata": {},
   "outputs": [
    {
     "name": "stderr",
     "output_type": "stream",
     "text": [
      "/home/maria/anaconda3/lib/python3.6/site-packages/sklearn/metrics/pairwise.py:257: RuntimeWarning: invalid value encountered in sqrt\n",
      "  return distances if squared else np.sqrt(distances, out=distances)\n"
     ]
    },
    {
     "name": "stdout",
     "output_type": "stream",
     "text": [
      "[  5  80  39 ... 110  49  40]\n"
     ]
    }
   ],
   "source": [
    "kmeans = KMeans(n_clusters=150, random_state=0).fit_predict(X)\n",
    "print(kmeans)\n"
   ]
  },
  {
   "cell_type": "code",
   "execution_count": 5,
   "metadata": {},
   "outputs": [
    {
     "name": "stdout",
     "output_type": "stream",
     "text": [
      "(10103,)\n"
     ]
    }
   ],
   "source": [
    "print(kmeans.shape)"
   ]
  },
  {
   "cell_type": "code",
   "execution_count": 10,
   "metadata": {},
   "outputs": [
    {
     "name": "stdout",
     "output_type": "stream",
     "text": [
      "(29, 5880)\n"
     ]
    }
   ],
   "source": [
    "print(X[kmeans==149].shape)"
   ]
  },
  {
   "cell_type": "code",
   "execution_count": null,
   "metadata": {},
   "outputs": [],
   "source": [
    "U=\n",
    "for j in range(0,X.shape[0]):\n",
    "    X_clust=np.zeros((1,150))\n",
    "    X_clust[]"
   ]
  },
  {
   "cell_type": "code",
   "execution_count": 24,
   "metadata": {},
   "outputs": [
    {
     "name": "stdout",
     "output_type": "stream",
     "text": [
      "(150, 5880)\n"
     ]
    }
   ],
   "source": [
    "cluster_means=[]\n",
    "for j in range(150):\n",
    "    mean_of_cluster=np.mean(X[kmeans==j,:],axis=0)\n",
    "    cluster_means.append(mean_of_cluster)\n",
    "#print(cluster_means)\n",
    "cluster_means=np.array(cluster_means)\n",
    "print(cluster_means.shape)"
   ]
  },
  {
   "cell_type": "code",
   "execution_count": 57,
   "metadata": {},
   "outputs": [
    {
     "name": "stdout",
     "output_type": "stream",
     "text": [
      "Total variance explained, averaged over neurons is: 0.06263488531112671\n"
     ]
    },
    {
     "data": {
      "image/png": "[encoded data removed]",
      "text/plain": [
       "<Figure size 432x288 with 1 Axes>"
      ]
     },
     "metadata": {},
     "output_type": "display_data"
    }
   ],
   "source": [
    "import matplotlib.pyplot as plt\n",
    "%matplotlib inline\n",
    "u=[]\n",
    "v=[]\n",
    "for j in range(X.shape[0]):\n",
    "    cluster_index_of_neuron=kmeans[j]\n",
    "    mean_of_cluster=cluster_means[cluster_index_of_neuron,:]\n",
    "    u_j=((X[j,:]-mean_of_cluster)**2).sum()\n",
    "    v_j=((X[j,:]-np.mean(X[j,:]))**2).sum()\n",
    "    u.append(u_j)\n",
    "    v.append(v_j)\n",
    "u=np.array(u)\n",
    "v=np.array(v)\n",
    "plt.plot(-np.divide(u,v)+1)\n",
    "print('Total variance explained, averaged over neurons is:',(1-np.mean(u)/np.mean(v)))\n",
    "var_exp_kmeans=-np.divide(u,v)+1"
   ]
  },
  {
   "cell_type": "code",
   "execution_count": 53,
   "metadata": {},
   "outputs": [],
   "source": [
    "def variance_explained_across_neurons(U,V,X):\n",
    "        '''\n",
    "        The coefficient R^2 is defined as (1 - u/v), where u is the residual sum of squares\n",
    "        ((y_true - y_pred) ** 2).sum() and v is the total sum of squares\n",
    "        ((y_true - y_true.mean()) ** 2).sum().\n",
    "        '''\n",
    "        #Fetch the original data and convert it into the same form as what goes into the\n",
    "        #matrix factorization model\n",
    "        3#data = io.loadmat(self.data_path+self.mouse_filename)\n",
    "        #resp = data['stim'][0]['resp'][0]\n",
    "        #spont =data['stim'][0]['spont'][0]\n",
    "        #X=subtract_spont(spont,resp).T\n",
    "        #X=zscore(X.T).T\n",
    "        u=[]\n",
    "        v=[]\n",
    "        approx=U@V\n",
    "        for j in range(X.shape[0]):\n",
    "            u_j=((X[j,:]-approx[j,:])**2).sum()\n",
    "            v_j=((X[j,:]-np.mean(X[j,:]))**2).sum()\n",
    "            u.append(u_j)\n",
    "            v.append(v_j)\n",
    "        u=np.array(u)\n",
    "        v=np.array(v)\n",
    "        plt.plot(-np.divide(u,v)+1)\n",
    "        var_exp=-np.divide(u,v)+1\n",
    "        plt.title('Variance explained across neurons')\n",
    "        plt.show()\n",
    "        print('Total variance explained, averaged over neurons is:',(1-np.mean(u)/np.mean(v)))\n",
    "        return var_exp"
   ]
  },
  {
   "cell_type": "code",
   "execution_count": 65,
   "metadata": {},
   "outputs": [
    {
     "data": {
      "image/png": "[encoded data removed]",
      "text/plain": [
       "<Figure size 432x288 with 1 Axes>"
      ]
     },
     "metadata": {},
     "output_type": "display_data"
    },
    {
     "name": "stdout",
     "output_type": "stream",
     "text": [
      "Total variance explained, averaged over neurons is: 0.09808886051177979\n"
     ]
    }
   ],
   "source": [
    "var_exp_ep=variance_explained_across_neurons(U,V,X)"
   ]
  },
  {
   "cell_type": "code",
   "execution_count": 54,
   "metadata": {},
   "outputs": [
    {
     "name": "stdout",
     "output_type": "stream",
     "text": [
      "(10103, 150)\n",
      "(150, 5880)\n"
     ]
    },
    {
     "data": {
      "image/png": "[encoded data removed]",
      "text/plain": [
       "<Figure size 432x288 with 1 Axes>"
      ]
     },
     "metadata": {},
     "output_type": "display_data"
    },
    {
     "name": "stdout",
     "output_type": "stream",
     "text": [
      "Total variance explained, averaged over neurons is: 0.11410760879516602\n"
     ]
    }
   ],
   "source": [
    "from sklearn.decomposition import PCA\n",
    "U_PCA = PCA(n_components=150).fit_transform(X)\n",
    "V_PCA=PCA(n_components=150).fit(X).components_\n",
    "print(U_PCA.shape)\n",
    "print(V_PCA.shape)\n",
    "var_exp_pca=variance_explained_across_neurons(U_PCA,V_PCA,X)"
   ]
  },
  {
   "cell_type": "code",
   "execution_count": 58,
   "metadata": {},
   "outputs": [
    {
     "data": {
      "image/png": "[encoded data removed]",
      "text/plain": [
       "<Figure size 432x288 with 1 Axes>"
      ]
     },
     "metadata": {},
     "output_type": "display_data"
    },
    {
     "name": "stdout",
     "output_type": "stream",
     "text": [
      "[0.05174834 0.01188779 0.18256015 ... 0.01883537 0.01703429 0.0115847 ]\n"
     ]
    }
   ],
   "source": [
    "plt.hist(var_exp_kmeans)\n",
    "plt.hist(var_exp_ep)\n",
    "plt.hist(var_exp_pca)\n",
    "plt.show()\n",
    "\n",
    "print(var_exp_kmeans)"
   ]
  },
  {
   "cell_type": "code",
   "execution_count": 74,
   "metadata": {},
   "outputs": [
    {
     "name": "stdout",
     "output_type": "stream",
     "text": [
      "[]\n",
      "(10103,)\n"
     ]
    },
    {
     "name": "stderr",
     "output_type": "stream",
     "text": [
      "/home/maria/anaconda3/lib/python3.6/site-packages/matplotlib/axes/_axes.py:6462: UserWarning: The 'normed' kwarg is deprecated, and has been replaced by the 'density' kwarg.\n",
      "  warnings.warn(\"The 'normed' kwarg is deprecated, and has been \"\n",
      "/home/maria/anaconda3/lib/python3.6/site-packages/matplotlib/axes/_axes.py:6462: UserWarning: The 'normed' kwarg is deprecated, and has been replaced by the 'density' kwarg.\n",
      "  warnings.warn(\"The 'normed' kwarg is deprecated, and has been \"\n",
      "/home/maria/anaconda3/lib/python3.6/site-packages/matplotlib/axes/_axes.py:6462: UserWarning: The 'normed' kwarg is deprecated, and has been replaced by the 'density' kwarg.\n",
      "  warnings.warn(\"The 'normed' kwarg is deprecated, and has been \"\n"
     ]
    },
    {
     "data": {
      "text/plain": [
       "<matplotlib.legend.Legend at 0x7f5530151c50>"
      ]
     },
     "execution_count": 74,
     "metadata": {},
     "output_type": "execute_result"
    },
    {
     "data": {
      "image/png": "[encoded data removed]",
      "text/plain": [
       "<Figure size 432x288 with 1 Axes>"
      ]
     },
     "metadata": {},
     "output_type": "display_data"
    }
   ],
   "source": [
    "import seaborn as sns\n",
    "#Remove outlier\n",
    "print(var_exp_ep[var_exp_ep<-1])\n",
    "var_exp_ep[var_exp_ep<-1]=0\n",
    "\n",
    "print(var_exp_ep.shape)\n",
    "sns.distplot(var_exp_kmeans,label='kmeans',kde=False,norm_hist=False)\n",
    "sns.distplot(var_exp_ep,label='EP',kde=False,norm_hist=False)\n",
    "sns.distplot(var_exp_pca,label='PCA',kde=False,norm_hist=False)\n",
    "plt.legend()"
   ]
  }
 ],
 "metadata": {
  "kernelspec": {
   "display_name": "Python 3",
   "language": "python",
   "name": "python3"
  },
  "language_info": {
   "codemirror_mode": {
    "name": "ipython",
    "version": 3
   },
   "file_extension": ".py",
   "mimetype": "text/x-python",
   "name": "python",
   "nbconvert_exporter": "python",
   "pygments_lexer": "ipython3",
   "version": "3.6.5"
  }
 },
 "nbformat": 4,
 "nbformat_minor": 2
}
