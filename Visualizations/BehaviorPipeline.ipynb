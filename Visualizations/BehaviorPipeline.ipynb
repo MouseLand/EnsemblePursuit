{
 "cells": [
  {
   "cell_type": "code",
   "execution_count": 1,
   "metadata": {},
   "outputs": [],
   "source": [
    "import sys\n",
    "sys.path.append(\"..\")\n",
    "from Pipelines.SpontaneousPipeline import SpontaneousBehaviorPipeline"
   ]
  },
  {
   "cell_type": "code",
   "execution_count": null,
   "metadata": {},
   "outputs": [
    {
     "name": "stdout",
     "output_type": "stream",
     "text": [
      "ensemble nr 0\n",
      "cost 0.908145779875082\n",
      "ensemble nr 1\n",
      "cost 0.9050981617805106\n",
      "ensemble nr 2\n",
      "cost 0.9028068158151785\n",
      "ensemble nr 3\n",
      "cost 0.9005386043906279\n",
      "ensemble nr 4\n",
      "cost 0.8980589686857207\n",
      "ensemble nr 5\n",
      "cost 0.8972982515702108\n",
      "ensemble nr 6\n",
      "cost 0.8960643447477853\n",
      "ensemble nr 7\n",
      "cost 0.8948896691167258\n",
      "ensemble nr 8\n",
      "cost 0.8943322057901573\n",
      "ensemble nr 9\n",
      "cost 0.8931326480599907\n"
     ]
    }
   ],
   "source": [
    "data_path='/home/maria/Documents/EnsemblePursuit/BehaviorData/'\n",
    "mouse_filename='spont_M161025_MP030_20161120.mat'\n",
    "model='EnsemblePursuit_numpy'\n",
    "nr_of_components=150\n",
    "pipeline=SpontaneousBehaviorPipeline(data_path,mouse_filename,model,nr_of_components)\n",
    "U,V=pipeline.fit_model()"
   ]
  },
  {
   "cell_type": "code",
   "execution_count": null,
   "metadata": {},
   "outputs": [],
   "source": [
    "pipeline.plot_var_exp(V,component_index=1)\n",
    "pipeline.variance_explained_across_neurons(U,V)\n",
    "pipeline.sparsity(U)"
   ]
  }
 ],
 "metadata": {
  "kernelspec": {
   "display_name": "Python 3",
   "language": "python",
   "name": "python3"
  },
  "language_info": {
   "codemirror_mode": {
    "name": "ipython",
    "version": 3
   },
   "file_extension": ".py",
   "mimetype": "text/x-python",
   "name": "python",
   "nbconvert_exporter": "python",
   "pygments_lexer": "ipython3",
   "version": "3.7.3"
  }
 },
 "nbformat": 4,
 "nbformat_minor": 2
}
