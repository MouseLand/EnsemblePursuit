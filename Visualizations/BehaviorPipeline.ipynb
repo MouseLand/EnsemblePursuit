{
 "cells": [
  {
   "cell_type": "code",
   "execution_count": null,
   "metadata": {},
   "outputs": [],
   "source": [
    "import sys\n",
    "sys.path.append(\"..\")\n",
    "from Pipelines.SpontaneousPipeline import SpontaneousBehaviorPipeline"
   ]
  },
  {
   "cell_type": "code",
   "execution_count": null,
   "metadata": {},
   "outputs": [],
   "source": [
    "data_path='/home/maria/Documents/EnsemblePursuit/BehaviorData/'\n",
    "mouse_filename='spont_M161025_MP030_20161120.mat'\n",
    "model='EnsemblePursuit_numpy'\n",
    "nr_of_components=2\n",
    "pipeline=SpontaneousBehaviorPipeline(data_path,mouse_filename,model,nr_of_components)\n",
    "U,V=pipeline.fit_model()\n",
    "pipeline.plot_var_exp(V,component_index=1)"
   ]
  }
 ],
 "metadata": {
  "kernelspec": {
   "display_name": "Python 3",
   "language": "python",
   "name": "python3"
  },
  "language_info": {
   "codemirror_mode": {
    "name": "ipython",
    "version": 3
   },
   "file_extension": ".py",
   "mimetype": "text/x-python",
   "name": "python",
   "nbconvert_exporter": "python",
   "pygments_lexer": "ipython3",
   "version": "3.7.3"
  }
 },
 "nbformat": 4,
 "nbformat_minor": 2
}
