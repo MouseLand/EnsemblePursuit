{
 "cells": [
  {
   "cell_type": "code",
   "execution_count": 3,
   "metadata": {},
   "outputs": [],
   "source": [
    "import numpy as np\n",
    "import matplotlib.pyplot as plt\n",
    "import seaborn as sns\n",
    "import scipy.io as sio"
   ]
  },
  {
   "cell_type": "code",
   "execution_count": 216,
   "metadata": {
    "scrolled": true
   },
   "outputs": [],
   "source": [
    "class EnsemblePursuit():\n",
    "    def __init__(self):\n",
    "        self.nr_of_ensembles=None\n",
    "        self.current_v=np.zeros(1)\n",
    "        self.current_u=np.zeros(1)\n",
    "        self.U=np.zeros(1)\n",
    "        self.V=np.zeros(1)\n",
    "        \n",
    "    def calculate_cost_delta(self):\n",
    "        cost_delta=np.maximum(np.zeros(self.X.shape[1]),self.current_v.T@self.X)/np.linalg.norm(self.current_v)**2-self.lambd\n",
    "        cost_delta=cost_delta.reshape(self.X.shape[1],1)\n",
    "        return cost_delta\n",
    "    \n",
    "    def fit_one_assembly(self):\n",
    "        #Have to figure out a good initialization\n",
    "        choose_neuron_idx=np.random.randint(0,self.X.shape[1],1)\n",
    "        self.current_u=np.zeros((self.X.shape[1],1))\n",
    "        self.current_u[choose_neuron_idx,0]=1\n",
    "        self.current_v=self.X[:,choose_neuron_idx]\n",
    "        max_delta_cost=1000\n",
    "        i=0\n",
    "        while max_delta_cost>0:\n",
    "            cost_delta=self.calculate_cost_delta()\n",
    "            excl_ind=np.where(self.current_u.flatten()==1)[0]\n",
    "            masked_cost_delta=np.ma.array(cost_delta,mask=self.current_u)\n",
    "            max_delta_neuron=np.ma.argmax(masked_cost_delta,fill_value=-1000)\n",
    "            max_delta_cost=cost_delta[max_delta_neuron]\n",
    "            if max_delta_cost>0:\n",
    "                self.current_v=(self.current_v+self.X[:,max_delta_neuron].reshape(X.shape[0],1))/2\n",
    "                self.current_u[max_delta_neuron,0]=1\n",
    "            i+=1\n",
    "        print(i)\n",
    "        self.U=np.hstack((self.U,self.current_u))\n",
    "        self.V=np.vstack((self.V,self.current_v.T))\n",
    "        print(self.V.shape)\n",
    "        \n",
    "    #def plot_heatmaps(self):\n",
    "        \n",
    "        \n",
    "    def fit_transform(self,X,lambd,n_ensembles=None):\n",
    "        self.X=X\n",
    "        self.lambd=lambd\n",
    "        self.U=np.zeros((self.X.shape[1],1))\n",
    "        self.V=np.zeros((1,self.X.shape[0]))\n",
    "        self.fit_one_assembly()\n",
    "    "
   ]
  },
  {
   "cell_type": "code",
   "execution_count": 129,
   "metadata": {},
   "outputs": [
    {
     "name": "stdout",
     "output_type": "stream",
     "text": [
      "(5426, 11449)\n"
     ]
    }
   ],
   "source": [
    "X=sio.loadmat('/home/maria/Documents/EnsemblePursuit/natimg2800_M160825_MP027_2016-12-14.mat')['stim']['resp'][0][0]\n",
    "print(X.shape)"
   ]
  },
  {
   "cell_type": "code",
   "execution_count": 220,
   "metadata": {},
   "outputs": [
    {
     "name": "stdout",
     "output_type": "stream",
     "text": [
      "26\n",
      "(2, 5426)\n"
     ]
    }
   ],
   "source": [
    "np.random.seed(7)\n",
    "ep=EnsemblePursuit()\n",
    "ep.fit_transform(X,0.5)"
   ]
  }
 ],
 "metadata": {
  "kernelspec": {
   "display_name": "Python 3",
   "language": "python",
   "name": "python3"
  },
  "language_info": {
   "codemirror_mode": {
    "name": "ipython",
    "version": 3
   },
   "file_extension": ".py",
   "mimetype": "text/x-python",
   "name": "python",
   "nbconvert_exporter": "python",
   "pygments_lexer": "ipython3",
   "version": "3.6.5"
  }
 },
 "nbformat": 4,
 "nbformat_minor": 2
}
