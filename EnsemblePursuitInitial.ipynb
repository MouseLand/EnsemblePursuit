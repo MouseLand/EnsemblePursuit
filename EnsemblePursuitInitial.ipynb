{
 "cells": [
  {
   "cell_type": "code",
   "execution_count": 3,
   "metadata": {},
   "outputs": [],
   "source": [
    "import numpy as np\n",
    "import matplotlib.pyplot as plt\n",
    "import seaborn as sns\n",
    "import scipy.io as sio"
   ]
  },
  {
   "cell_type": "code",
   "execution_count": 68,
   "metadata": {
    "scrolled": true
   },
   "outputs": [],
   "source": [
    "class EnsemblePursuit():\n",
    "    def __init__(self):\n",
    "        self.nr_of_ensembles=None\n",
    "        self.current_v=np.zeros(1)\n",
    "        self.current_u=np.zeros(1)\n",
    "        self.U=np.zeros(1)\n",
    "        self.V=np.zeros(1)\n",
    "        \n",
    "    def calculate_cost_delta(self):\n",
    "        #print(np.dot(self.current_v.T,self.current_v))\n",
    "        cost_delta=np.clip(self.current_v.T@self.X,0,None)/np.dot(self.current_v.T,self.current_v)[0]-self.lambd\n",
    "        cost_delta=cost_delta.reshape(self.X.shape[1],1)\n",
    "        return cost_delta\n",
    "    \n",
    "    def fit_one_assembly(self):\n",
    "        #Have to figure out a good initialization\n",
    "        choose_neuron_idx=np.random.randint(0,self.X.shape[1],1)\n",
    "        self.current_u=np.zeros((self.X.shape[1],1))\n",
    "        self.current_u[choose_neuron_idx,0]=1\n",
    "        self.current_v=self.X[:,choose_neuron_idx]\n",
    "        max_delta_cost=1000\n",
    "        i=0\n",
    "        while max_delta_cost>0:\n",
    "            cost_delta=self.calculate_cost_delta()\n",
    "            excl_ind=np.where(self.current_u.flatten()==1)[0]\n",
    "            masked_cost_delta=np.ma.array(cost_delta,mask=self.current_u)\n",
    "            max_delta_neuron=np.ma.argmax(masked_cost_delta,fill_value=-1000)\n",
    "            max_delta_cost=cost_delta[max_delta_neuron]\n",
    "            if max_delta_cost>0:\n",
    "                self.current_v=(self.current_v+self.X[:,max_delta_neuron].reshape(X.shape[0],1))/2\n",
    "                self.current_u[max_delta_neuron,0]=1\n",
    "            i+=1\n",
    "        print(i)\n",
    "        self.U=np.hstack((self.U,self.current_u))\n",
    "        self.V=np.vstack((self.V,self.current_v.T))\n",
    "        \n",
    "    #def plot_heatmaps(self):\n",
    "        \n",
    "        \n",
    "    def fit_transform(self,X,lambd,n_ensembles=None):\n",
    "        self.X=X\n",
    "        self.lambd=lambd\n",
    "        self.U=np.zeros((self.X.shape[1],1))\n",
    "        self.V=np.zeros((1,self.X.shape[0]))\n",
    "        for iteration in range(0,n_ensembles):\n",
    "            self.fit_one_assembly()\n",
    "            self.X=(self.X.T-self.current_u@self.current_v.T).T\n",
    "            #Reset u for new iteration\n",
    "            self.current_u=np.zeros((self.X.shape[1],1))\n",
    "        print(self.U.shape)\n",
    "        print(self.V.shape)\n",
    "        self.U=self.U[:,1:]\n",
    "        self.V=self.V[1:,:]\n",
    "    "
   ]
  },
  {
   "cell_type": "code",
   "execution_count": 5,
   "metadata": {},
   "outputs": [
    {
     "name": "stdout",
     "output_type": "stream",
     "text": [
      "(5426, 11449)\n"
     ]
    }
   ],
   "source": [
    "X=sio.loadmat('/home/maria/Documents/EnsemblePursuit/natimg2800_M160825_MP027_2016-12-14.mat')['stim']['resp'][0][0]\n",
    "print(X.shape)"
   ]
  },
  {
   "cell_type": "code",
   "execution_count": 69,
   "metadata": {},
   "outputs": [
    {
     "name": "stdout",
     "output_type": "stream",
     "text": [
      "26\n",
      "47\n",
      "25\n",
      "13\n",
      "4\n",
      "9\n",
      "12\n",
      "11\n",
      "18\n",
      "3\n",
      "(11449, 11)\n",
      "(11, 5426)\n"
     ]
    }
   ],
   "source": [
    "np.random.seed(7)\n",
    "ep=EnsemblePursuit()\n",
    "ep.fit_transform(X,0.5,10)"
   ]
  },
  {
   "cell_type": "code",
   "execution_count": 70,
   "metadata": {},
   "outputs": [
    {
     "name": "stdout",
     "output_type": "stream",
     "text": [
      "26\n",
      "47\n",
      "25\n",
      "13\n",
      "4\n",
      "9\n",
      "12\n",
      "11\n",
      "18\n",
      "3\n",
      "(11449, 11)\n",
      "(11, 5426)\n",
      "         11124 function calls in 9.872 seconds\n",
      "\n",
      "   Ordered by: standard name\n",
      "\n",
      "   ncalls  tottime  percall  cumtime  percall filename:lineno(function)\n",
      "       10    0.022    0.002    5.361    0.536 <ipython-input-68-472ca1030b7c>:15(fit_one_assembly)\n",
      "        1    4.511    4.511    9.872    9.872 <ipython-input-68-472ca1030b7c>:40(fit_transform)\n",
      "      168    5.241    0.031    5.255    0.031 <ipython-input-68-472ca1030b7c>:9(calculate_cost_delta)\n",
      "        1    0.000    0.000    9.872    9.872 <string>:1(<module>)\n",
      "      168    0.000    0.000    0.004    0.000 _methods.py:37(_any)\n",
      "      168    0.000    0.000    0.001    0.000 core.py:1360(getmask)\n",
      "      168    0.005    0.000    0.034    0.000 core.py:2771(__new__)\n",
      "      168    0.003    0.000    0.006    0.000 core.py:2908(_update_from)\n",
      "      168    0.008    0.000    0.016    0.000 core.py:2934(__array_finalize__)\n",
      "      840    0.003    0.000    0.003    0.000 core.py:3372(__setattr__)\n",
      "      168    0.001    0.000    0.001    0.000 core.py:3570(_get_data)\n",
      "      168    0.002    0.000    0.016    0.000 core.py:3669(filled)\n",
      "      168    0.001    0.000    0.003    0.000 core.py:444(_check_fill_value)\n",
      "      168    0.001    0.000    0.024    0.000 core.py:5447(argmax)\n",
      "      168    0.003    0.000    0.036    0.000 core.py:6345(array)\n",
      "      168    0.002    0.000    0.026    0.000 core.py:6565(__call__)\n",
      "      168    0.000    0.000    0.000    0.000 core.py:7809(asanyarray)\n",
      "      168    0.001    0.000    0.010    0.000 fromnumeric.py:1721(clip)\n",
      "      168    0.001    0.000    0.008    0.000 fromnumeric.py:50(_wrapfunc)\n",
      "       35    0.000    0.000    0.001    0.000 iostream.py:195(schedule)\n",
      "       24    0.000    0.000    0.000    0.000 iostream.py:300(_is_master_process)\n",
      "       24    0.000    0.000    0.000    0.000 iostream.py:313(_schedule_flush)\n",
      "       24    0.000    0.000    0.002    0.000 iostream.py:366(write)\n",
      "       35    0.000    0.000    0.000    0.000 iostream.py:93(_event_pipe)\n",
      "       40    0.000    0.000    0.000    0.000 numeric.py:495(asanyarray)\n",
      "       20    0.000    0.000    0.000    0.000 shape_base.py:11(atleast_1d)\n",
      "       10    0.000    0.000    0.002    0.000 shape_base.py:182(vstack)\n",
      "       10    0.000    0.000    0.000    0.000 shape_base.py:234(<listcomp>)\n",
      "       10    0.000    0.000    0.009    0.001 shape_base.py:236(hstack)\n",
      "       10    0.000    0.000    0.000    0.000 shape_base.py:283(<listcomp>)\n",
      "       20    0.000    0.000    0.000    0.000 shape_base.py:63(atleast_2d)\n",
      "       35    0.001    0.000    0.001    0.000 socket.py:333(send)\n",
      "       35    0.000    0.000    0.000    0.000 threading.py:1062(_wait_for_tstate_lock)\n",
      "       35    0.000    0.000    0.000    0.000 threading.py:1104(is_alive)\n",
      "       35    0.000    0.000    0.000    0.000 threading.py:506(is_set)\n",
      "        1    0.000    0.000    9.872    9.872 {built-in method builtins.exec}\n",
      "     2184    0.004    0.000    0.004    0.000 {built-in method builtins.getattr}\n",
      "      168    0.000    0.000    0.000    0.000 {built-in method builtins.hasattr}\n",
      "     1200    0.001    0.000    0.001    0.000 {built-in method builtins.isinstance}\n",
      "       40    0.000    0.000    0.000    0.000 {built-in method builtins.len}\n",
      "       12    0.000    0.000    0.002    0.000 {built-in method builtins.print}\n",
      "      712    0.011    0.000    0.011    0.000 {built-in method numpy.core.multiarray.array}\n",
      "       20    0.010    0.001    0.010    0.001 {built-in method numpy.core.multiarray.concatenate}\n",
      "      168    0.003    0.000    0.003    0.000 {built-in method numpy.core.multiarray.copyto}\n",
      "      168    0.004    0.000    0.004    0.000 {built-in method numpy.core.multiarray.dot}\n",
      "      168    0.002    0.000    0.002    0.000 {built-in method numpy.core.multiarray.where}\n",
      "       22    0.001    0.000    0.001    0.000 {built-in method numpy.core.multiarray.zeros}\n",
      "       24    0.000    0.000    0.000    0.000 {built-in method posix.getpid}\n",
      "       35    0.000    0.000    0.000    0.000 {method 'acquire' of '_thread.lock' objects}\n",
      "      168    0.000    0.000    0.005    0.000 {method 'any' of 'numpy.ndarray' objects}\n",
      "       35    0.000    0.000    0.000    0.000 {method 'append' of 'collections.deque' objects}\n",
      "       40    0.000    0.000    0.000    0.000 {method 'append' of 'list' objects}\n",
      "      168    0.006    0.000    0.006    0.000 {method 'argmax' of 'numpy.ndarray' objects}\n",
      "      168    0.007    0.000    0.007    0.000 {method 'clip' of 'numpy.ndarray' objects}\n",
      "      168    0.003    0.000    0.003    0.000 {method 'copy' of 'numpy.ndarray' objects}\n",
      "        1    0.000    0.000    0.000    0.000 {method 'disable' of '_lsprof.Profiler' objects}\n",
      "      168    0.004    0.000    0.004    0.000 {method 'flatten' of 'numpy.ndarray' objects}\n",
      "       10    0.000    0.000    0.000    0.000 {method 'randint' of 'mtrand.RandomState' objects}\n",
      "      168    0.004    0.000    0.004    0.000 {method 'reduce' of 'numpy.ufunc' objects}\n",
      "      326    0.001    0.000    0.001    0.000 {method 'reshape' of 'numpy.ndarray' objects}\n",
      "      840    0.001    0.000    0.001    0.000 {method 'update' of 'dict' objects}\n",
      "      168    0.000    0.000    0.000    0.000 {method 'view' of 'numpy.ndarray' objects}\n",
      "\n",
      "\n"
     ]
    }
   ],
   "source": [
    "np.random.seed(7)\n",
    "import cProfile\n",
    "ep=EnsemblePursuit()\n",
    "cProfile.run('ep.fit_transform(X,0.5,10)')"
   ]
  },
  {
   "cell_type": "code",
   "execution_count": null,
   "metadata": {},
   "outputs": [],
   "source": []
  }
 ],
 "metadata": {
  "kernelspec": {
   "display_name": "Python 3",
   "language": "python",
   "name": "python3"
  },
  "language_info": {
   "codemirror_mode": {
    "name": "ipython",
    "version": 3
   },
   "file_extension": ".py",
   "mimetype": "text/x-python",
   "name": "python",
   "nbconvert_exporter": "python",
   "pygments_lexer": "ipython3",
   "version": "3.6.5"
  }
 },
 "nbformat": 4,
 "nbformat_minor": 2
}
