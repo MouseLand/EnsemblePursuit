{
 "cells": [
  {
   "cell_type": "code",
   "execution_count": 2,
   "metadata": {},
   "outputs": [],
   "source": [
    "from GammaSimulations import GammaSimulations\n",
    "import torch\n",
    "import numpy as np"
   ]
  },
  {
   "cell_type": "code",
   "execution_count": 3,
   "metadata": {
    "scrolled": true
   },
   "outputs": [
    {
     "data": {
      "image/png": "[encoded data removed]",
      "text/plain": [
       "<Figure size 432x288 with 1 Axes>"
      ]
     },
     "metadata": {
      "needs_background": "light"
     },
     "output_type": "display_data"
    }
   ],
   "source": [
    "nr_components=25\n",
    "nr_timepoints=50\n",
    "nr_neurons=50\n",
    "X=GammaSimulations().simulate_data(nr_components,nr_timepoints,nr_neurons)\n"
   ]
  },
  {
   "cell_type": "code",
   "execution_count": 3,
   "metadata": {},
   "outputs": [],
   "source": [
    "U=np.zeros((nr_neurons,nr_components))\n",
    "U=torch.tensor(U,requires_grad=True)\n",
    "V=np.zeros((nr_components,nr_timepoints))\n",
    "V=torch.tensor(V,requires_grad=True)\n",
    "def forward(U,V):\n",
    "    pred=U@V"
   ]
  },
  {
   "cell_type": "code",
   "execution_count": 4,
   "metadata": {},
   "outputs": [
    {
     "name": "stdout",
     "output_type": "stream",
     "text": [
      "tensor([[ 1.5317, -0.8789, -0.3044,  ..., -0.8769, -1.7898, -1.5760],\n",
      "        [ 0.7948,  0.3355,  0.9260,  ...,  0.3442,  0.9874,  0.1262],\n",
      "        [ 0.8318, -1.6527,  0.0230,  ...,  1.5588, -1.7002,  1.8052],\n",
      "        ...,\n",
      "        [ 0.1139, -0.5214, -0.6159,  ..., -0.0650,  0.0774, -2.7786],\n",
      "        [-0.1600,  0.3919,  1.1426,  ..., -1.7806, -0.6753, -0.5046],\n",
      "        [-0.6630,  1.9471,  1.2255,  ...,  1.5098,  0.3425, -0.1440]],\n",
      "       requires_grad=True)\n",
      "tensor([[ 1.6846,  0.2410,  1.2868,  ..., -0.0880, -0.0597, -1.3190],\n",
      "        [-1.6590, -1.4059,  0.0248,  ..., -0.4636,  0.6457,  1.6751],\n",
      "        [-0.6774,  1.6490, -1.0414,  ...,  0.3609, -2.2637,  0.6661],\n",
      "        ...,\n",
      "        [ 0.0445,  1.1002, -0.1459,  ...,  0.0930, -1.2909,  1.9094],\n",
      "        [ 0.6625, -0.1309,  0.2460,  ...,  0.5638,  0.5563, -0.0400],\n",
      "        [-1.3606,  0.2419,  0.3053,  ...,  1.0757,  0.0797,  1.7173]],\n",
      "       requires_grad=True)\n"
     ]
    }
   ],
   "source": [
    "U=torch.randn((nr_neurons,nr_components),requires_grad=True)\n",
    "V=torch.randn((nr_components,nr_timepoints),requires_grad=True)\n",
    "print(V)\n",
    "print(U)"
   ]
  },
  {
   "cell_type": "code",
   "execution_count": 10,
   "metadata": {},
   "outputs": [
    {
     "name": "stdout",
     "output_type": "stream",
     "text": [
      "torch.Size([50, 50])\n",
      "(50, 50)\n",
      "torch.Size([50, 50])\n",
      "tensor([[ 1.6846,  0.2410,  1.2868,  ..., -0.0880, -0.0597, -1.3190],\n",
      "        [-1.6590, -1.4059,  0.0248,  ..., -0.4636,  0.6457,  1.6751],\n",
      "        [-0.6774,  1.6490, -1.0414,  ...,  0.3609, -2.2637,  0.6661],\n",
      "        ...,\n",
      "        [ 0.0445,  1.1002, -0.1459,  ...,  0.0930, -1.2909,  1.9094],\n",
      "        [ 0.6625, -0.1309,  0.2460,  ...,  0.5638,  0.5563, -0.0400],\n",
      "        [-1.3606,  0.2419,  0.3053,  ...,  1.0757,  0.0797,  1.7173]],\n",
      "       requires_grad=True)\n",
      "tensor([[ 1.5317, -0.8789, -0.3044,  ..., -0.8769, -1.7898, -1.5760],\n",
      "        [ 0.7948,  0.3355,  0.9260,  ...,  0.3442,  0.9874,  0.1262],\n",
      "        [ 0.8318, -1.6527,  0.0230,  ...,  1.5588, -1.7002,  1.8052],\n",
      "        ...,\n",
      "        [ 0.1139, -0.5214, -0.6159,  ..., -0.0650,  0.0774, -2.7786],\n",
      "        [-0.1600,  0.3919,  1.1426,  ..., -1.7806, -0.6753, -0.5046],\n",
      "        [-0.6630,  1.9471,  1.2255,  ...,  1.5098,  0.3425, -0.1440]],\n",
      "       requires_grad=True)\n"
     ]
    },
    {
     "ename": "RuntimeError",
     "evalue": "Expected object of scalar type Float but got scalar type Double for argument #2 'target'",
     "output_type": "error",
     "traceback": [
      "\u001b[0;31m---------------------------------------------------------------------------\u001b[0m",
      "\u001b[0;31mRuntimeError\u001b[0m                              Traceback (most recent call last)",
      "\u001b[0;32m<ipython-input-10-68bca52d29d5>\u001b[0m in \u001b[0;36m<module>\u001b[0;34m\u001b[0m\n\u001b[1;32m     24\u001b[0m \u001b[0;32mfor\u001b[0m \u001b[0mi\u001b[0m \u001b[0;32min\u001b[0m \u001b[0mrange\u001b[0m\u001b[0;34m(\u001b[0m\u001b[0;36m0\u001b[0m\u001b[0;34m,\u001b[0m\u001b[0;36m10\u001b[0m\u001b[0;34m)\u001b[0m\u001b[0;34m:\u001b[0m\u001b[0;34m\u001b[0m\u001b[0;34m\u001b[0m\u001b[0m\n\u001b[1;32m     25\u001b[0m     \u001b[0mpreds\u001b[0m\u001b[0;34m=\u001b[0m\u001b[0mmodel\u001b[0m\u001b[0;34m(\u001b[0m\u001b[0mU\u001b[0m\u001b[0;34m,\u001b[0m\u001b[0mV\u001b[0m\u001b[0;34m)\u001b[0m\u001b[0;34m\u001b[0m\u001b[0;34m\u001b[0m\u001b[0m\n\u001b[0;32m---> 26\u001b[0;31m     \u001b[0mloss\u001b[0m\u001b[0;34m=\u001b[0m\u001b[0mloss_func\u001b[0m\u001b[0;34m(\u001b[0m\u001b[0mpreds\u001b[0m\u001b[0;34m,\u001b[0m\u001b[0mX_torch\u001b[0m\u001b[0;34m)\u001b[0m\u001b[0;34m\u001b[0m\u001b[0;34m\u001b[0m\u001b[0m\n\u001b[0m\u001b[1;32m     27\u001b[0m     \u001b[0mprint\u001b[0m\u001b[0;34m(\u001b[0m\u001b[0mloss\u001b[0m\u001b[0;34m)\u001b[0m\u001b[0;34m\u001b[0m\u001b[0;34m\u001b[0m\u001b[0m\n\u001b[1;32m     28\u001b[0m     \u001b[0;31m#loss.backward()\u001b[0m\u001b[0;34m\u001b[0m\u001b[0;34m\u001b[0m\u001b[0;34m\u001b[0m\u001b[0m\n",
      "\u001b[0;32m~/anaconda3/lib/python3.7/site-packages/torch/nn/modules/module.py\u001b[0m in \u001b[0;36m__call__\u001b[0;34m(self, *input, **kwargs)\u001b[0m\n\u001b[1;32m    491\u001b[0m             \u001b[0mresult\u001b[0m \u001b[0;34m=\u001b[0m \u001b[0mself\u001b[0m\u001b[0;34m.\u001b[0m\u001b[0m_slow_forward\u001b[0m\u001b[0;34m(\u001b[0m\u001b[0;34m*\u001b[0m\u001b[0minput\u001b[0m\u001b[0;34m,\u001b[0m \u001b[0;34m**\u001b[0m\u001b[0mkwargs\u001b[0m\u001b[0;34m)\u001b[0m\u001b[0;34m\u001b[0m\u001b[0;34m\u001b[0m\u001b[0m\n\u001b[1;32m    492\u001b[0m         \u001b[0;32melse\u001b[0m\u001b[0;34m:\u001b[0m\u001b[0;34m\u001b[0m\u001b[0;34m\u001b[0m\u001b[0m\n\u001b[0;32m--> 493\u001b[0;31m             \u001b[0mresult\u001b[0m \u001b[0;34m=\u001b[0m \u001b[0mself\u001b[0m\u001b[0;34m.\u001b[0m\u001b[0mforward\u001b[0m\u001b[0;34m(\u001b[0m\u001b[0;34m*\u001b[0m\u001b[0minput\u001b[0m\u001b[0;34m,\u001b[0m \u001b[0;34m**\u001b[0m\u001b[0mkwargs\u001b[0m\u001b[0;34m)\u001b[0m\u001b[0;34m\u001b[0m\u001b[0;34m\u001b[0m\u001b[0m\n\u001b[0m\u001b[1;32m    494\u001b[0m         \u001b[0;32mfor\u001b[0m \u001b[0mhook\u001b[0m \u001b[0;32min\u001b[0m \u001b[0mself\u001b[0m\u001b[0;34m.\u001b[0m\u001b[0m_forward_hooks\u001b[0m\u001b[0;34m.\u001b[0m\u001b[0mvalues\u001b[0m\u001b[0;34m(\u001b[0m\u001b[0;34m)\u001b[0m\u001b[0;34m:\u001b[0m\u001b[0;34m\u001b[0m\u001b[0;34m\u001b[0m\u001b[0m\n\u001b[1;32m    495\u001b[0m             \u001b[0mhook_result\u001b[0m \u001b[0;34m=\u001b[0m \u001b[0mhook\u001b[0m\u001b[0;34m(\u001b[0m\u001b[0mself\u001b[0m\u001b[0;34m,\u001b[0m \u001b[0minput\u001b[0m\u001b[0;34m,\u001b[0m \u001b[0mresult\u001b[0m\u001b[0;34m)\u001b[0m\u001b[0;34m\u001b[0m\u001b[0;34m\u001b[0m\u001b[0m\n",
      "\u001b[0;32m~/anaconda3/lib/python3.7/site-packages/torch/nn/modules/loss.py\u001b[0m in \u001b[0;36mforward\u001b[0;34m(self, input, target)\u001b[0m\n\u001b[1;32m    441\u001b[0m     \u001b[0;34m@\u001b[0m\u001b[0mweak_script_method\u001b[0m\u001b[0;34m\u001b[0m\u001b[0;34m\u001b[0m\u001b[0m\n\u001b[1;32m    442\u001b[0m     \u001b[0;32mdef\u001b[0m \u001b[0mforward\u001b[0m\u001b[0;34m(\u001b[0m\u001b[0mself\u001b[0m\u001b[0;34m,\u001b[0m \u001b[0minput\u001b[0m\u001b[0;34m,\u001b[0m \u001b[0mtarget\u001b[0m\u001b[0;34m)\u001b[0m\u001b[0;34m:\u001b[0m\u001b[0;34m\u001b[0m\u001b[0;34m\u001b[0m\u001b[0m\n\u001b[0;32m--> 443\u001b[0;31m         \u001b[0;32mreturn\u001b[0m \u001b[0mF\u001b[0m\u001b[0;34m.\u001b[0m\u001b[0mmse_loss\u001b[0m\u001b[0;34m(\u001b[0m\u001b[0minput\u001b[0m\u001b[0;34m,\u001b[0m \u001b[0mtarget\u001b[0m\u001b[0;34m,\u001b[0m \u001b[0mreduction\u001b[0m\u001b[0;34m=\u001b[0m\u001b[0mself\u001b[0m\u001b[0;34m.\u001b[0m\u001b[0mreduction\u001b[0m\u001b[0;34m)\u001b[0m\u001b[0;34m\u001b[0m\u001b[0;34m\u001b[0m\u001b[0m\n\u001b[0m\u001b[1;32m    444\u001b[0m \u001b[0;34m\u001b[0m\u001b[0m\n\u001b[1;32m    445\u001b[0m \u001b[0;34m\u001b[0m\u001b[0m\n",
      "\u001b[0;32m~/anaconda3/lib/python3.7/site-packages/torch/nn/functional.py\u001b[0m in \u001b[0;36mmse_loss\u001b[0;34m(input, target, size_average, reduce, reduction)\u001b[0m\n\u001b[1;32m   2255\u001b[0m     \u001b[0;32melse\u001b[0m\u001b[0;34m:\u001b[0m\u001b[0;34m\u001b[0m\u001b[0;34m\u001b[0m\u001b[0m\n\u001b[1;32m   2256\u001b[0m         \u001b[0mexpanded_input\u001b[0m\u001b[0;34m,\u001b[0m \u001b[0mexpanded_target\u001b[0m \u001b[0;34m=\u001b[0m \u001b[0mtorch\u001b[0m\u001b[0;34m.\u001b[0m\u001b[0mbroadcast_tensors\u001b[0m\u001b[0;34m(\u001b[0m\u001b[0minput\u001b[0m\u001b[0;34m,\u001b[0m \u001b[0mtarget\u001b[0m\u001b[0;34m)\u001b[0m\u001b[0;34m\u001b[0m\u001b[0;34m\u001b[0m\u001b[0m\n\u001b[0;32m-> 2257\u001b[0;31m         \u001b[0mret\u001b[0m \u001b[0;34m=\u001b[0m \u001b[0mtorch\u001b[0m\u001b[0;34m.\u001b[0m\u001b[0m_C\u001b[0m\u001b[0;34m.\u001b[0m\u001b[0m_nn\u001b[0m\u001b[0;34m.\u001b[0m\u001b[0mmse_loss\u001b[0m\u001b[0;34m(\u001b[0m\u001b[0mexpanded_input\u001b[0m\u001b[0;34m,\u001b[0m \u001b[0mexpanded_target\u001b[0m\u001b[0;34m,\u001b[0m \u001b[0m_Reduction\u001b[0m\u001b[0;34m.\u001b[0m\u001b[0mget_enum\u001b[0m\u001b[0;34m(\u001b[0m\u001b[0mreduction\u001b[0m\u001b[0;34m)\u001b[0m\u001b[0;34m)\u001b[0m\u001b[0;34m\u001b[0m\u001b[0;34m\u001b[0m\u001b[0m\n\u001b[0m\u001b[1;32m   2258\u001b[0m     \u001b[0;32mreturn\u001b[0m \u001b[0mret\u001b[0m\u001b[0;34m\u001b[0m\u001b[0;34m\u001b[0m\u001b[0m\n\u001b[1;32m   2259\u001b[0m \u001b[0;34m\u001b[0m\u001b[0m\n",
      "\u001b[0;31mRuntimeError\u001b[0m: Expected object of scalar type Float but got scalar type Double for argument #2 'target'"
     ]
    }
   ],
   "source": [
    "from torch.autograd import Variable\n",
    "\n",
    "def model(U,V):\n",
    "    UV=U@V\n",
    "    UV=Variable(UV,requires_grad=True)\n",
    "    return UV\n",
    "print((U@V).shape)\n",
    "print(X.shape)\n",
    "X_torch=torch.tensor(X,dtype=torch.double)\n",
    "print(X_torch.shape)\n",
    "def mse(t1,t2):\n",
    "    diff=t1-t2\n",
    "    print(diff)\n",
    "    return torch.sum(diff*diff)/diff.numel()\n",
    "\n",
    "loss_func = torch.nn.MSELoss()\n",
    "U=Variable(U,requires_grad=True)\n",
    "V=Variable(V,requires_grad=True)\n",
    "X_torch=Variable(X_torch)\n",
    "print(U)\n",
    "print(V)\n",
    "optimizer = torch.optim.SGD([U,V], \n",
    "                            lr=1e-6)\n",
    "for i in range(0,10):\n",
    "    preds=model(U,V)\n",
    "    loss=loss_func(preds,X_torch)\n",
    "    print(loss)\n",
    "    #loss.backward()\n",
    "    loss.backward()\n",
    "    #print('bom',loss.backward())\n",
    "    print('LOZZ',loss)\n",
    "    print(U.grad)\n",
    "    optimizer.step()\n",
    "        "
   ]
  },
  {
   "cell_type": "code",
   "execution_count": 4,
   "metadata": {},
   "outputs": [
    {
     "name": "stdout",
     "output_type": "stream",
     "text": [
      "tensor(96555.5469, grad_fn=<MseLossBackward>)\n",
      "U Parameter containing:\n",
      "tensor([[0.3282, 0.0842, 0.4718,  ..., 0.7889, 0.9710, 0.3119],\n",
      "        [0.2442, 0.3443, 0.5208,  ..., 0.8186, 0.1133, 0.4612],\n",
      "        [0.5291, 0.3904, 0.7437,  ..., 0.4473, 0.3481, 0.4077],\n",
      "        ...,\n",
      "        [0.6995, 0.9734, 0.0887,  ..., 0.1859, 0.5963, 0.3645],\n",
      "        [0.7095, 0.1793, 0.0781,  ..., 0.2468, 0.6545, 0.6847],\n",
      "        [0.7709, 0.4255, 0.8734,  ..., 0.2014, 0.7222, 0.0990]],\n",
      "       requires_grad=True)\n",
      "tensor(96555.5469, grad_fn=<MseLossBackward>)\n",
      "U Parameter containing:\n",
      "tensor([[0.3255, 0.0814, 0.4695,  ..., 0.7865, 0.9682, 0.3095],\n",
      "        [0.2408, 0.3407, 0.5177,  ..., 0.8155, 0.1098, 0.4580],\n",
      "        [0.5263, 0.3874, 0.7412,  ..., 0.4448, 0.3452, 0.4051],\n",
      "        ...,\n",
      "        [0.6961, 0.9697, 0.0857,  ..., 0.1830, 0.5927, 0.3615],\n",
      "        [0.7066, 0.1763, 0.0756,  ..., 0.2442, 0.6515, 0.6820],\n",
      "        [0.7676, 0.4220, 0.8705,  ..., 0.1985, 0.7188, 0.0960]],\n",
      "       requires_grad=True)\n",
      "tensor(94196.6016, grad_fn=<MseLossBackward>)\n",
      "U Parameter containing:\n",
      "tensor([[0.3229, 0.0787, 0.4671,  ..., 0.7841, 0.9654, 0.3072],\n",
      "        [0.2374, 0.3371, 0.5147,  ..., 0.8125, 0.1064, 0.4550],\n",
      "        [0.5235, 0.3844, 0.7386,  ..., 0.4423, 0.3423, 0.4026],\n",
      "        ...,\n",
      "        [0.6927, 0.9662, 0.0828,  ..., 0.1801, 0.5892, 0.3584],\n",
      "        [0.7038, 0.1733, 0.0731,  ..., 0.2417, 0.6485, 0.6795],\n",
      "        [0.7644, 0.4185, 0.8675,  ..., 0.1956, 0.7154, 0.0931]],\n",
      "       requires_grad=True)\n",
      "tensor(91926.1875, grad_fn=<MseLossBackward>)\n",
      "U Parameter containing:\n",
      "tensor([[0.3203, 0.0760, 0.4648,  ..., 0.7818, 0.9628, 0.3049],\n",
      "        [0.2342, 0.3336, 0.5117,  ..., 0.8095, 0.1030, 0.4520],\n",
      "        [0.5208, 0.3815, 0.7362,  ..., 0.4399, 0.3394, 0.4001],\n",
      "        ...,\n",
      "        [0.6895, 0.9626, 0.0799,  ..., 0.1773, 0.5857, 0.3555],\n",
      "        [0.7009, 0.1703, 0.0706,  ..., 0.2393, 0.6456, 0.6769],\n",
      "        [0.7612, 0.4152, 0.8647,  ..., 0.1929, 0.7120, 0.0903]],\n",
      "       requires_grad=True)\n",
      "tensor(89739.0859, grad_fn=<MseLossBackward>)\n",
      "U Parameter containing:\n",
      "tensor([[0.3178, 0.0733, 0.4625,  ..., 0.7795, 0.9601, 0.3026],\n",
      "        [0.2310, 0.3302, 0.5088,  ..., 0.8066, 0.0997, 0.4491],\n",
      "        [0.5181, 0.3786, 0.7337,  ..., 0.4375, 0.3366, 0.3976],\n",
      "        ...,\n",
      "        [0.6862, 0.9592, 0.0771,  ..., 0.1745, 0.5823, 0.3526],\n",
      "        [0.6982, 0.1674, 0.0682,  ..., 0.2369, 0.6427, 0.6744],\n",
      "        [0.7581, 0.4118, 0.8618,  ..., 0.1901, 0.7088, 0.0874]],\n",
      "       requires_grad=True)\n",
      "tensor(87631.9766, grad_fn=<MseLossBackward>)\n",
      "U Parameter containing:\n",
      "tensor([[0.3153, 0.0707, 0.4603,  ..., 0.7773, 0.9575, 0.3004],\n",
      "        [0.2278, 0.3269, 0.5059,  ..., 0.8038, 0.0964, 0.4462],\n",
      "        [0.5154, 0.3757, 0.7314,  ..., 0.4351, 0.3338, 0.3952],\n",
      "        ...,\n",
      "        [0.6831, 0.9558, 0.0744,  ..., 0.1718, 0.5790, 0.3497],\n",
      "        [0.6955, 0.1645, 0.0659,  ..., 0.2345, 0.6399, 0.6720],\n",
      "        [0.7550, 0.4086, 0.8591,  ..., 0.1874, 0.7055, 0.0847]],\n",
      "       requires_grad=True)\n",
      "tensor(85600.2969, grad_fn=<MseLossBackward>)\n",
      "U Parameter containing:\n",
      "tensor([[0.3128, 0.0681, 0.4581,  ..., 0.7751, 0.9549, 0.2982],\n",
      "        [0.2247, 0.3235, 0.5031,  ..., 0.8009, 0.0932, 0.4433],\n",
      "        [0.5128, 0.3730, 0.7290,  ..., 0.4328, 0.3311, 0.3929],\n",
      "        ...,\n",
      "        [0.6800, 0.9525, 0.0716,  ..., 0.1691, 0.5757, 0.3469],\n",
      "        [0.6928, 0.1617, 0.0635,  ..., 0.2322, 0.6372, 0.6696],\n",
      "        [0.7520, 0.4053, 0.8563,  ..., 0.1848, 0.7024, 0.0820]],\n",
      "       requires_grad=True)\n",
      "tensor(83640.7578, grad_fn=<MseLossBackward>)\n",
      "U Parameter containing:\n",
      "tensor([[0.3104, 0.0656, 0.4560,  ..., 0.7729, 0.9524, 0.2960],\n",
      "        [0.2217, 0.3203, 0.5004,  ..., 0.7982, 0.0901, 0.4405],\n",
      "        [0.5103, 0.3702, 0.7267,  ..., 0.4306, 0.3285, 0.3905],\n",
      "        ...,\n",
      "        [0.6769, 0.9492, 0.0690,  ..., 0.1665, 0.5725, 0.3442],\n",
      "        [0.6901, 0.1590, 0.0613,  ..., 0.2300, 0.6345, 0.6672],\n",
      "        [0.7491, 0.4022, 0.8536,  ..., 0.1822, 0.6993, 0.0793]],\n",
      "       requires_grad=True)\n",
      "tensor(81750.1875, grad_fn=<MseLossBackward>)\n",
      "U Parameter containing:\n",
      "tensor([[0.3081, 0.0631, 0.4538,  ..., 0.7708, 0.9499, 0.2939],\n",
      "        [0.2187, 0.3171, 0.4977,  ..., 0.7955, 0.0870, 0.4378],\n",
      "        [0.5078, 0.3675, 0.7244,  ..., 0.4283, 0.3258, 0.3883],\n",
      "        ...,\n",
      "        [0.6739, 0.9459, 0.0663,  ..., 0.1640, 0.5693, 0.3415],\n",
      "        [0.6875, 0.1562, 0.0590,  ..., 0.2277, 0.6318, 0.6649],\n",
      "        [0.7462, 0.3991, 0.8510,  ..., 0.1796, 0.6962, 0.0767]],\n",
      "       requires_grad=True)\n",
      "tensor(79924.3438, grad_fn=<MseLossBackward>)\n",
      "U Parameter containing:\n",
      "tensor([[0.3057, 0.0607, 0.4517,  ..., 0.7687, 0.9475, 0.2918],\n",
      "        [0.2158, 0.3139, 0.4950,  ..., 0.7928, 0.0839, 0.4351],\n",
      "        [0.5053, 0.3649, 0.7222,  ..., 0.4262, 0.3232, 0.3860],\n",
      "        ...,\n",
      "        [0.6709, 0.9428, 0.0637,  ..., 0.1615, 0.5662, 0.3388],\n",
      "        [0.6850, 0.1536, 0.0568,  ..., 0.2256, 0.6292, 0.6627],\n",
      "        [0.7433, 0.3960, 0.8484,  ..., 0.1771, 0.6932, 0.0741]],\n",
      "       requires_grad=True)\n",
      "tensor(78163.1641, grad_fn=<MseLossBackward>)\n"
     ]
    }
   ],
   "source": [
    "import torch\n",
    "import torch.nn as nn\n",
    "\n",
    "class NMF(nn.Module):\n",
    "    def __init__(self, nr_neurons, nr_timepoints, nr_components):\n",
    "        super(NMF, self).__init__()\n",
    "        self.U = nn.Parameter(torch.rand(nr_neurons, nr_components, requires_grad=True))\n",
    "        self.V = nn.Parameter(torch.rand(nr_components, nr_timepoints, requires_grad=True))\n",
    "\n",
    "    def forward(self):\n",
    "        return torch.matmul(self.U, self.V)\n",
    "\n",
    "# some data cube Y: B x N and we want to factor it into K components\n",
    "nr_components=25\n",
    "nr_timepoints=50\n",
    "nr_neurons=50\n",
    "#Y = torch.rand(B,N) \n",
    "X_torch=torch.tensor(X,dtype=torch.float32)\n",
    "Y=X_torch\n",
    "nmf = NMF(nr_neurons, nr_timepoints, nr_components)\n",
    "Y_ = nmf()\n",
    "loss_fn = nn.MSELoss(reduction='sum')\n",
    "loss = loss_fn(Y_, Y)\n",
    "loss.backward()\n",
    "print(loss)\n",
    "n_epoch=10\n",
    "for epoch in range(n_epoch):\n",
    "    Y_ = nmf()\n",
    "    loss = loss_fn(Y_, Y)\n",
    "    nmf.zero_grad() # need to clear the old gradients\n",
    "    loss.backward()\n",
    "\n",
    "    for param in nmf.parameters():\n",
    "        param.data = param.data - 1e-5 * param.grad\n",
    "    print('U',nmf.U)\n",
    "    nmf.U.data=torch.clamp(nmf.U.data,min=0)\n",
    "    print(loss)"
   ]
  },
  {
   "cell_type": "code",
   "execution_count": 20,
   "metadata": {},
   "outputs": [
    {
     "name": "stdout",
     "output_type": "stream",
     "text": [
      "tensor(95353.3203, grad_fn=<MseLossBackward>)\n"
     ]
    },
    {
     "data": {
      "text/plain": [
       "[<matplotlib.lines.Line2D at 0x7fee628536a0>]"
      ]
     },
     "execution_count": 20,
     "metadata": {},
     "output_type": "execute_result"
    },
    {
     "data": {
      "image/png": "[encoded data removed]",
      "text/plain": [
       "<Figure size 432x288 with 1 Axes>"
      ]
     },
     "metadata": {
      "needs_background": "light"
     },
     "output_type": "display_data"
    }
   ],
   "source": [
    "import torch\n",
    "import torch.nn as nn\n",
    "\n",
    "class NMF(nn.Module):\n",
    "    def __init__(self, nr_neurons, nr_timepoints, nr_components):\n",
    "        super(NMF, self).__init__()\n",
    "        self.U = nn.Parameter(torch.rand(nr_neurons, nr_components, requires_grad=True))\n",
    "        self.V = nn.Parameter(torch.rand(nr_components, nr_timepoints, requires_grad=True))\n",
    "\n",
    "    def forward(self):\n",
    "        return torch.matmul(self.U, self.V)\n",
    "    \n",
    "\n",
    "def fit_NMF(X,nr_components):\n",
    "    nr_timepoints=X.shape[0]\n",
    "    nr_neurons=X.shape[1]\n",
    "    X_torch=torch.tensor(X,dtype=torch.float32)\n",
    "    Y=X_torch\n",
    "    nmf = NMF(nr_neurons, nr_timepoints, nr_components)\n",
    "    Y_ = nmf()\n",
    "    loss_fn = nn.MSELoss(reduction='sum')\n",
    "    loss_lst=[]\n",
    "    for epoch in range(n_epoch):\n",
    "        Y_ = nmf()\n",
    "        loss = loss_fn(Y_, Y)\n",
    "        nmf.zero_grad() # need to clear the old gradients\n",
    "        loss.backward()\n",
    "        loss_lst.append(loss.item())\n",
    "        for param in nmf.parameters():\n",
    "            param.data = param.data - 1e-5 * param.grad\n",
    "        #print('U',nmf.U)\n",
    "        nmf.U.data=torch.clamp(nmf.U.data,min=0)\n",
    "    plt.plot(loss_lst)\n",
    "    return np.array(nmf.U.data),np.array(nmf.V.data)\n",
    "\n",
    "# some data cube Y: B x N and we want to factor it into K components\n",
    "nr_components=25\n",
    "nr_timepoints=50\n",
    "nr_neurons=50\n",
    "#Y = torch.rand(B,N) \n",
    "X_torch=torch.tensor(X,dtype=torch.float32)\n",
    "Y=X_torch\n",
    "nmf = NMF(nr_neurons, nr_timepoints, nr_components)\n",
    "Y_ = nmf()\n",
    "loss_fn = nn.MSELoss(reduction='sum')\n",
    "loss = loss_fn(Y_, Y)\n",
    "loss.backward()\n",
    "print(loss)\n",
    "n_epoch=1000\n",
    "loss_lst=[]\n",
    "for epoch in range(n_epoch):\n",
    "    Y_ = nmf()\n",
    "    loss = loss_fn(Y_, Y)\n",
    "    nmf.zero_grad() # need to clear the old gradients\n",
    "    loss.backward()\n",
    "    loss_lst.append(loss.item())\n",
    "    for param in nmf.parameters():\n",
    "        param.data = param.data - 1e-5 * param.grad\n",
    "    #print('U',nmf.U)\n",
    "    nmf.U.data=torch.clamp(nmf.U.data,min=0)\n",
    "    #print(loss)\n",
    "import matplotlib.pyplot as plt\n",
    "plt.plot(loss_lst)"
   ]
  },
  {
   "cell_type": "code",
   "execution_count": 21,
   "metadata": {
    "scrolled": true
   },
   "outputs": [
    {
     "data": {
      "image/png": "[encoded data removed]",
      "text/plain": [
       "<Figure size 432x288 with 1 Axes>"
      ]
     },
     "metadata": {
      "needs_background": "light"
     },
     "output_type": "display_data"
    }
   ],
   "source": [
    "nr_components=25\n",
    "nr_timepoints=50\n",
    "nr_neurons=50\n",
    "U,V=fit_NMF(X,25)"
   ]
  },
  {
   "cell_type": "code",
   "execution_count": 10,
   "metadata": {},
   "outputs": [
    {
     "name": "stdout",
     "output_type": "stream",
     "text": [
      "tensor([[5.2555e-04, 4.4401e-01, 3.5670e-01,  ..., 5.7874e-01, 0.0000e+00,\n",
      "         0.0000e+00],\n",
      "        [4.5627e-01, 2.3142e-01, 2.4604e-01,  ..., 4.3477e-01, 3.9485e-01,\n",
      "         0.0000e+00],\n",
      "        [4.2965e-01, 5.0667e-02, 3.5420e-02,  ..., 1.5138e-01, 5.3795e-01,\n",
      "         5.4601e-02],\n",
      "        ...,\n",
      "        [7.3139e-02, 1.6861e-01, 4.5290e-01,  ..., 4.7111e-01, 0.0000e+00,\n",
      "         1.0178e-01],\n",
      "        [6.2227e-01, 4.8483e-01, 6.6274e-01,  ..., 6.9584e-01, 1.6844e-01,\n",
      "         0.0000e+00],\n",
      "        [3.2384e-01, 2.5985e-01, 5.5453e-01,  ..., 2.7807e-01, 3.2543e-01,\n",
      "         0.0000e+00]])\n"
     ]
    },
    {
     "data": {
      "text/plain": [
       "tensor([[ 0.2389, -0.0100,  0.2842,  ..., -0.1167,  0.3107,  0.1558],\n",
       "        [ 0.2994,  0.0402,  0.1277,  ..., -0.2002, -0.0127,  0.3819],\n",
       "        [-0.0689,  0.3304, -0.3409,  ...,  0.0157, -0.2609,  0.0895],\n",
       "        ...,\n",
       "        [-0.0860,  0.2430,  0.1415,  ..., -0.1211,  0.1670, -0.3830],\n",
       "        [-0.3384, -0.2119,  0.4726,  ..., -0.0356,  0.0612,  0.2871],\n",
       "        [ 0.1779,  0.5848, -0.0330,  ...,  0.5262,  0.1391,  0.2244]])"
      ]
     },
     "execution_count": 10,
     "metadata": {},
     "output_type": "execute_result"
    }
   ],
   "source": [
    "print(nmf.U.data)\n",
    "nmf.V.data"
   ]
  }
 ],
 "metadata": {
  "kernelspec": {
   "display_name": "Python 3",
   "language": "python",
   "name": "python3"
  },
  "language_info": {
   "codemirror_mode": {
    "name": "ipython",
    "version": 3
   },
   "file_extension": ".py",
   "mimetype": "text/x-python",
   "name": "python",
   "nbconvert_exporter": "python",
   "pygments_lexer": "ipython3",
   "version": "3.7.3"
  }
 },
 "nbformat": 4,
 "nbformat_minor": 2
}
