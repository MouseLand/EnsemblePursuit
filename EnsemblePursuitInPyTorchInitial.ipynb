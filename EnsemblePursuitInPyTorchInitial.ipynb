{
 "cells": [
  {
   "cell_type": "code",
   "execution_count": 1,
   "metadata": {},
   "outputs": [],
   "source": [
    "import torch\n",
    "import numpy as np\n",
    "import scipy.io as sio\n",
    "import os\n",
    "import time"
   ]
  },
  {
   "cell_type": "code",
   "execution_count": 2,
   "metadata": {},
   "outputs": [],
   "source": [
    "torch.cuda.is_available()\n",
    "t=torch.cuda.FloatTensor([2,3])\n",
    "\n",
    "import gc\n",
    "\n",
    "g=gc.collect()"
   ]
  },
  {
   "cell_type": "code",
   "execution_count": 3,
   "metadata": {},
   "outputs": [],
   "source": [
    "class EnsemblePursuitPyTorch():\n",
    "    \n",
    "    def calculate_cost_delta(self):\n",
    "        #print(np.dot(self.current_v.T,self.current_v))\n",
    "        #cost_delta=np.clip(self.current_v.T@self.X,0,None)/np.dot(self.current_v.T,self.current_v)[0]-self.lambd\n",
    "        #print(torch.matmul(self.current_v,self.X).size())\n",
    "        cost_delta=torch.clamp(torch.matmul(self.current_v,self.X),min=0,max=None)/torch.matmul(self.current_v,self.current_v)-self.lambd\n",
    "        return cost_delta\n",
    "    \n",
    "    def fit_one_assembly(self):\n",
    "        with torch.cuda.device(0) as device:\n",
    "            choose_neuron_idx=np.random.randint(0,self.X.size()[1],1)[0]\n",
    "            self.current_u=torch.zeros([self.X.size(1)]).cuda()\n",
    "            self.current_u[choose_neuron_idx]=1\n",
    "            self.current_v=self.X[:,choose_neuron_idx]\n",
    "            #print(self.current_v.size())\n",
    "            max_delta_cost=1000\n",
    "            self.i=0\n",
    "            while max_delta_cost>0:\n",
    "                cost_delta=self.calculate_cost_delta()\n",
    "                #print(cost_delta.size())\n",
    "                #print(self.current_u.size())\n",
    "                mask=self.current_u.clone()\n",
    "                mask[self.current_u==0]=1\n",
    "                mask[self.current_u!=0]=0\n",
    "                masked_cost_delta=mask*cost_delta\n",
    "                #print(masked_cost_delta.type())\n",
    "                #print(masked_cost_delta)\n",
    "                values,sorted_neurons=masked_cost_delta.sort()\n",
    "                max_delta_neuron=sorted_neurons[-1]\n",
    "                #print(max_delta_neuron.item())\n",
    "                #print(values)\n",
    "                max_delta_cost=values[-1]\n",
    "                if max_delta_cost>0:\n",
    "                    self.current_v=(self.current_v+self.X[:,max_delta_neuron.item()])/2\n",
    "                    self.current_u[max_delta_neuron.item()]=1\n",
    "                self.i+=1\n",
    "            #print(i)\n",
    "            self.U=torch.cat((self.U,self.current_u.view(self.X.size(1),1)),1)\n",
    "            self.V=torch.cat((self.V,self.current_v.view(1,self.X.size(0))),0)\n",
    "    \n",
    "    \n",
    "    \n",
    "    def fit_transform(self,X,lambd,n_ensembles=None):\n",
    "        with torch.cuda.device(0) as device:\n",
    "            self.lambd=lambd\n",
    "            self.X=torch.cuda.FloatTensor(X)\n",
    "            self.U=torch.zeros((self.X.size(1),1)).cuda()\n",
    "            self.V=torch.zeros([1,self.X.size(0)]).cuda()\n",
    "            self.nr_of_neurons=[]\n",
    "            #self.current_u=torch.zeros([self.X.size(1)]).cuda()\n",
    "            for iteration in range(0,n_ensembles):\n",
    "                self.fit_one_assembly()\n",
    "                self.nr_of_neurons.append(self.i)\n",
    "                U_V=torch.mm(self.current_u.view(self.X.size(1),1),self.current_v.view(1,self.X.size(0)))\n",
    "                #print(U_V.size())\n",
    "                self.X=(self.X.t()-U_V).t()\n",
    "                self.X[self.X<0]=0\n",
    "                #Reset u for new iteration\n",
    "            self.U=self.U[:,1:]\n",
    "            self.V=self.V[1:,:]\n",
    "            print(self.X.size())\n",
    "            print(self.U.size())\n",
    "            print(self.V.size())\n",
    "            return self.X.cpu(), self.nr_of_neurons, self.U.cpu(), self.V.cpu()"
   ]
  },
  {
   "cell_type": "code",
   "execution_count": 4,
   "metadata": {},
   "outputs": [
    {
     "name": "stdout",
     "output_type": "stream",
     "text": [
      "(5880, 10103)\n"
     ]
    }
   ],
   "source": [
    "X=sio.loadmat('/home/maria/Documents/EnsemblePursuit/data/natimg2800_M170717_MP034_2017-09-11.mat')['stim']['resp'][0][0]\n",
    "X[X<0]=0\n",
    "print(X.shape)"
   ]
  },
  {
   "cell_type": "code",
   "execution_count": 5,
   "metadata": {},
   "outputs": [
    {
     "name": "stdout",
     "output_type": "stream",
     "text": [
      "torch.Size([5880, 10103])\n",
      "torch.Size([10103, 1000])\n",
      "torch.Size([1000, 5880])\n",
      "130.4753975868225\n",
      "[6905, 845, 35, 198, 69, 73, 6, 2, 14, 35, 4, 62, 22, 25, 58, 72, 53, 105, 86, 64, 11, 63, 77, 11, 6, 31, 33, 9, 206, 158, 21, 8, 30, 182, 11, 7, 34, 18, 40, 116, 7, 15, 8, 84, 32, 3, 58, 137, 154, 1, 141, 19, 1, 10, 8, 25, 61, 22, 165, 66, 1, 1, 92, 1, 32, 53, 19, 64, 285, 2, 12, 24, 3, 1, 30, 1, 57, 72, 9, 9, 35, 1, 4, 37, 2, 6, 1, 51, 23, 17, 1, 1, 62, 10, 41, 5, 28, 86, 27, 7, 69, 8, 16, 26, 1, 45, 18, 6, 4, 40, 1, 80, 8, 47, 1, 5, 1, 104, 1, 14, 1, 1, 49, 14, 27, 25, 82, 34, 1, 19, 21, 17, 67, 1, 7, 1, 113, 86, 1, 48, 23, 29, 27, 28, 8, 42, 35, 1, 8, 4, 22, 35, 24, 36, 1, 44, 21, 46, 69, 18, 9, 31, 17, 6, 1, 20, 1, 6, 12, 1, 45, 9, 98, 1, 1, 9, 11, 20, 1, 1, 5, 3, 4, 12, 41, 1, 4, 23, 67, 4, 1, 4, 2, 2, 107, 5, 1, 117, 1, 74, 1, 25, 42, 33, 22, 2, 60, 12, 66, 2, 32, 125, 3, 27, 11, 12, 1, 2, 34, 52, 7, 9, 1, 23, 9, 36, 1, 1, 14, 61, 1, 1, 16, 22, 23, 1, 57, 72, 24, 2, 1, 1, 104, 34, 61, 1, 44, 4, 12, 2, 1, 15, 46, 45, 2, 57, 1, 130, 20, 42, 1, 1, 43, 46, 16, 10, 27, 23, 10, 1, 20, 8, 40, 27, 18, 1, 1, 37, 1, 92, 8, 38, 1, 1, 44, 5, 16, 77, 5, 12, 1, 14, 5, 18, 9, 50, 1, 42, 1, 18, 13, 18, 40, 10, 14, 1, 38, 1, 20, 7, 37, 6, 2, 1, 15, 16, 2, 44, 1, 13, 27, 102, 6, 28, 20, 62, 24, 5, 12, 49, 8, 21, 1, 41, 1, 25, 10, 1, 58, 1, 1, 17, 7, 1, 38, 5, 33, 1, 1, 22, 28, 9, 6, 6, 39, 48, 1, 21, 2, 59, 69, 30, 11, 30, 7, 59, 48, 1, 1, 1, 4, 38, 23, 38, 2, 10, 19, 1, 25, 1, 1, 46, 5, 5, 15, 116, 8, 7, 11, 36, 1, 42, 1, 9, 9, 5, 62, 9, 1, 70, 87, 1, 47, 117, 1, 1, 47, 7, 1, 1, 3, 2, 16, 1, 1, 12, 10, 41, 1, 6, 18, 4, 11, 16, 14, 17, 42, 1, 1, 96, 1, 2, 1, 29, 3, 18, 18, 15, 27, 36, 4, 1, 1, 2, 12, 51, 27, 10, 22, 22, 10, 70, 1, 16, 36, 20, 46, 117, 88, 30, 1, 1, 27, 1, 28, 9, 2, 1, 1, 6, 1, 12, 1, 1, 1, 18, 1, 1, 1, 51, 1, 16, 21, 68, 1, 1, 19, 6, 3, 23, 1, 1, 41, 14, 33, 17, 1, 1, 70, 75, 1, 1, 20, 5, 12, 10, 5, 35, 4, 1, 1, 16, 6, 1, 72, 1, 35, 7, 7, 1, 162, 9, 35, 47, 34, 1, 1, 16, 83, 14, 13, 14, 22, 12, 2, 1, 82, 32, 13, 19, 6, 1, 29, 2, 1, 51, 4, 11, 29, 28, 20, 1, 1, 37, 19, 1, 10, 1, 4, 1, 54, 2, 50, 2, 12, 1, 1, 13, 28, 81, 36, 10, 33, 1, 1, 16, 1, 6, 1, 4, 1, 9, 1, 3, 1, 33, 12, 1, 2, 1, 41, 1, 53, 75, 1, 1, 9, 4, 5, 82, 16, 1, 1, 13, 1, 15, 33, 60, 56, 3, 3, 2, 23, 12, 1, 1, 31, 4, 3, 1, 1, 20, 17, 3, 22, 5, 16, 25, 3, 1, 14, 2, 18, 21, 6, 5, 2, 6, 44, 1, 45, 1, 22, 4, 8, 14, 1, 1, 30, 1, 1, 14, 7, 5, 1, 1, 26, 12, 1, 8, 14, 10, 14, 1, 21, 1, 1, 1, 1, 36, 84, 27, 24, 12, 1, 3, 11, 13, 14, 44, 15, 6, 7, 1, 75, 29, 31, 27, 2, 11, 1, 1, 1, 35, 42, 14, 1, 32, 4, 1, 7, 1, 13, 1, 75, 78, 1, 4, 44, 1, 3, 1, 1, 1, 1, 1, 5, 2, 28, 40, 1, 1, 2, 27, 1, 13, 4, 8, 1, 1, 2, 6, 1, 8, 12, 1, 1, 1, 1, 1, 3, 46, 1, 33, 54, 1, 2, 31, 24, 2, 52, 1, 27, 1, 9, 16, 7, 1, 1, 1, 1, 1, 7, 1, 11, 40, 1, 1, 54, 10, 8, 4, 1, 1, 2, 1, 1, 1, 21, 2, 1, 1, 24, 1, 1, 25, 1, 32, 2, 1, 12, 1, 11, 2, 1, 25, 8, 11, 21, 3, 52, 3, 13, 1, 1, 1, 40, 7, 11, 24, 9, 35, 2, 6, 1, 7, 8, 1, 1, 1, 1, 7, 37, 1, 1, 2, 1, 19, 25, 34, 1, 1, 23, 2, 9, 72, 11, 23, 1, 1, 24, 73, 1, 1, 39, 1, 11, 12, 2, 1, 1, 23, 1, 89, 19, 1, 1, 3, 12, 18, 22, 19, 27, 1, 6, 1, 35, 1, 40, 1, 59, 8, 1, 6, 19, 1, 14, 1, 103, 1, 1, 12, 9, 14, 13, 1, 2, 1, 66, 1, 66, 2, 22, 1, 3, 1, 15, 2, 7, 8, 2, 3, 13, 12, 6, 1, 9, 1, 1, 1, 14, 1, 2, 10, 1, 1, 1, 1, 38, 3, 7, 7, 1, 1, 1, 1, 24, 1, 15, 1, 1, 85, 1, 4, 33, 18, 17, 4, 90, 1, 12, 1, 1, 1, 1, 2, 1, 6, 1, 12, 1, 1, 108, 22, 8, 1, 1, 1, 7, 21, 1, 1, 2, 8, 33, 17, 2, 6, 1, 25, 7, 43, 30, 15, 10, 49, 14, 1, 2, 1, 17, 67, 22, 3, 2, 6, 11, 19, 1, 75, 12, 2, 48, 31, 1, 1, 12, 1, 10, 17]\n"
     ]
    }
   ],
   "source": [
    "np.random.seed(7)\n",
    "ep=EnsemblePursuitPyTorch()\n",
    "s=time.time()\n",
    "U_V,nr_of_neurons,U,V=ep.fit_transform(X,0.35,1000)\n",
    "e=time.time()\n",
    "print(e-s)\n",
    "print(nr_of_neurons)"
   ]
  }
 ],
 "metadata": {
  "kernelspec": {
   "display_name": "Python 3",
   "language": "python",
   "name": "python3"
  },
  "language_info": {
   "codemirror_mode": {
    "name": "ipython",
    "version": 3
   },
   "file_extension": ".py",
   "mimetype": "text/x-python",
   "name": "python",
   "nbconvert_exporter": "python",
   "pygments_lexer": "ipython3",
   "version": "3.6.5"
  }
 },
 "nbformat": 4,
 "nbformat_minor": 2
}
