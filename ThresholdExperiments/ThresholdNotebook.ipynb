{
 "cells": [
  {
   "cell_type": "code",
   "execution_count": 1,
   "metadata": {},
   "outputs": [],
   "source": [
    "import numpy as np\n",
    "import matplotlib.pyplot as plt\n",
    "#from EnsemblePursuitPyTorch_threshold import EnsemblePursuitPyTorch\n",
    "import sys\n",
    "sys.path.append(\"..\")\n",
    "from EnsemblePursuitModule.EnsemblePursuitPyTorchVarExp import EnsemblePursuitPyTorchVarExp\n",
    "from EnsemblePursuitModule.EnsemblePursuitNumpyVarExp import EnsemblePursuitNumpyVarExp\n",
    "#from EnsemblePursuitNumpy import EnsemblePursuitNumpy\n",
    "from sklearn.decomposition import SparsePCA\n",
    "from sklearn.decomposition import FastICA\n",
    "from sklearn.decomposition import NMF\n",
    "from sklearn.linear_model import ridge_regression\n",
    "from utils import test_train_split, evaluate_model_torch, subtract_spont, corrcoef, PCA,zscore\n",
    "import pandas as pd\n",
    "from scipy import io\n",
    "import time\n",
    "import glob\n",
    "import os\n",
    "from scipy import io\n",
    "import matplotlib"
   ]
  },
  {
   "cell_type": "code",
   "execution_count": 2,
   "metadata": {
    "scrolled": true
   },
   "outputs": [
    {
     "name": "stdout",
     "output_type": "stream",
     "text": [
      "0.3179927468299866\n",
      "0.1900075078010559\n",
      "0.12247055768966675\n",
      "0.10142892599105835\n",
      "0.07524830102920532\n",
      "0.05867189168930054\n",
      "0.048471033573150635\n",
      "ensemble nr 0\n",
      "cost 0.9995637435143472\n",
      "0.26409668534874053\n",
      "0.16902401787265997\n",
      "0.1297125901139391\n",
      "0.09354316983585498\n",
      "0.07843637297820949\n",
      "0.05960183626347981\n",
      "0.05151853750544877\n",
      "0.037998741710592365\n",
      "ensemble nr 1\n",
      "cost 0.9992460652127052\n",
      "0.1962218580472329\n",
      "0.15516587479729704\n",
      "0.13757000971899536\n",
      "0.08529635982736994\n",
      "0.07538453539353074\n",
      "0.06376765464305023\n",
      "0.047169875357360835\n",
      "ensemble nr 2\n",
      "cost 0.9989230111458098\n",
      "0.2711880484012543\n",
      "0.11852497735702494\n",
      "0.10094875214969934\n",
      "0.09175386775897221\n",
      "0.09508793920621972\n",
      "0.07428501229527318\n",
      "0.06009348324591246\n",
      "0.0479351823839238\n",
      "ensemble nr 3\n",
      "cost 0.9985922624884473\n",
      "0.2554530057733426\n",
      "0.1258152453348338\n",
      "0.14026808320204875\n",
      "0.11280912048728597\n",
      "0.08837174752025512\n",
      "0.07402146391878428\n",
      "0.05999916910477876\n",
      "0.05460180154027394\n",
      "0.05058392614960283\n",
      "0.04143390130108371\n",
      "ensemble nr 4\n",
      "cost 0.9982379277437144\n",
      "0.25848962169880374\n",
      "0.18239301392058938\n",
      "0.13419230719793562\n",
      "0.10161032785956603\n",
      "0.06395169927957911\n",
      "0.058851010011770066\n",
      "0.04939197771350723\n",
      "ensemble nr 5\n",
      "cost 0.9979481173203191\n",
      "0.25079581270018136\n",
      "0.1738209347426216\n",
      "0.11715099684023078\n",
      "0.08838651640134443\n",
      "0.08624512654909477\n",
      "0.06339806864393505\n",
      "0.038677539478389034\n",
      "ensemble nr 6\n",
      "cost 0.9976515811703934\n",
      "0.2804917335637753\n",
      "0.18599309352986493\n",
      "0.06972025499766543\n",
      "0.0757346901717817\n",
      "0.060168423039467345\n",
      "0.051861259879669386\n",
      "0.051481940693565154\n",
      "0.04362161548274335\n",
      "ensemble nr 7\n",
      "cost 0.9973112730058775\n",
      "0.20538777129076413\n",
      "0.17832151863332468\n",
      "0.10682789935698112\n",
      "0.10552965543958948\n",
      "0.08177261745692721\n",
      "0.08342780107297454\n",
      "0.06980332568198833\n",
      "0.05799501340653146\n",
      "0.05496474044509336\n",
      "0.04674066984974601\n",
      "ensemble nr 8\n",
      "cost 0.9969463478688135\n",
      "0.278258648525712\n",
      "0.16719829640281691\n",
      "0.11219320895510898\n",
      "0.08027803235828801\n",
      "0.0729850167618441\n",
      "0.0652598723117862\n",
      "0.05824195400122578\n",
      "0.04859027403118332\n",
      "ensemble nr 9\n",
      "cost 0.9966269122193815\n"
     ]
    }
   ],
   "source": [
    "data = io.loadmat('/home/maria/Documents/EnsemblePursuit/SAND9/data/natimg2800_M170717_MP034_2017-09-11.mat')\n",
    "resp = data['stim'][0]['resp'][0]\n",
    "spont =data['stim'][0]['spont'][0]\n",
    "X=subtract_spont(spont,resp).T\n",
    "options_dict={'seed_neuron_av_nr':100,'min_assembly_size':4}\n",
    "ep_np=EnsemblePursuitNumpyVarExp(n_ensembles=150,lambd=0.05,options_dict=options_dict)\n",
    "start=time.time()\n",
    "U,V=ep_np.fit_transform(X)\n",
    "end=time.time()\n",
    "tm=end-start"
   ]
  },
  {
   "cell_type": "code",
   "execution_count": 17,
   "metadata": {},
   "outputs": [],
   "source": [
    "data = io.loadmat('/home/maria/Documents/EnsemblePursuit/SAND9/data/natimg2800_M170717_MP034_2017-09-11.mat')\n",
    "resp = data['stim'][0]['resp'][0]\n",
    "spont =data['stim'][0]['spont'][0]\n",
    "X=subtract_spont(spont,resp).T"
   ]
  },
  {
   "cell_type": "code",
   "execution_count": 18,
   "metadata": {},
   "outputs": [
    {
     "name": "stdout",
     "output_type": "stream",
     "text": [
      "(10103, 5880)\n",
      "(10103, 5880)\n"
     ]
    },
    {
     "data": {
      "text/plain": [
       "(array([1.0000e+00, 0.0000e+00, 0.0000e+00, 0.0000e+00, 0.0000e+00,\n",
       "        0.0000e+00, 0.0000e+00, 0.0000e+00, 0.0000e+00, 0.0000e+00,\n",
       "        0.0000e+00, 0.0000e+00, 0.0000e+00, 0.0000e+00, 0.0000e+00,\n",
       "        0.0000e+00, 0.0000e+00, 0.0000e+00, 0.0000e+00, 1.0102e+04]),\n",
       " array([0.9913668 , 0.99179024, 0.9922137 , 0.99263716, 0.99306065,\n",
       "        0.9934841 , 0.9939076 , 0.994331  , 0.9947545 , 0.9951779 ,\n",
       "        0.9956014 , 0.99602485, 0.9964483 , 0.99687177, 0.9972952 ,\n",
       "        0.9977187 , 0.9981421 , 0.9985656 , 0.99898905, 0.99941254,\n",
       "        0.99983597], dtype=float32),\n",
       " <a list of 20 Patch objects>)"
      ]
     },
     "execution_count": 18,
     "metadata": {},
     "output_type": "execute_result"
    },
    {
     "data": {
      "image/png": "[encoded data removed]",
      "text/plain": [
       "<Figure size 432x288 with 1 Axes>"
      ]
     },
     "metadata": {
      "needs_background": "light"
     },
     "output_type": "display_data"
    }
   ],
   "source": [
    "print(X.shape)\n",
    "X=zscore(X.T).T\n",
    "print(X.shape)\n",
    "plt.hist(np.var(X,axis=1),bins=20)"
   ]
  },
  {
   "cell_type": "code",
   "execution_count": 19,
   "metadata": {},
   "outputs": [
    {
     "ename": "AssertionError",
     "evalue": "",
     "output_type": "error",
     "traceback": [
      "\u001b[0;31m---------------------------------------------------------------------------\u001b[0m",
      "\u001b[0;31mAssertionError\u001b[0m                            Traceback (most recent call last)",
      "\u001b[0;32m<ipython-input-19-e15ff9980201>\u001b[0m in \u001b[0;36m<module>\u001b[0;34m\u001b[0m\n\u001b[0;32m----> 1\u001b[0;31m \u001b[0;32massert\u001b[0m \u001b[0;36m2\u001b[0m\u001b[0;34m+\u001b[0m\u001b[0;36m2\u001b[0m\u001b[0;34m==\u001b[0m\u001b[0;36m5\u001b[0m\u001b[0;34m\u001b[0m\u001b[0;34m\u001b[0m\u001b[0m\n\u001b[0m",
      "\u001b[0;31mAssertionError\u001b[0m: "
     ]
    }
   ],
   "source": [
    "assert 2+2==5"
   ]
  }
 ],
 "metadata": {
  "kernelspec": {
   "display_name": "Python 3",
   "language": "python",
   "name": "python3"
  },
  "language_info": {
   "codemirror_mode": {
    "name": "ipython",
    "version": 3
   },
   "file_extension": ".py",
   "mimetype": "text/x-python",
   "name": "python",
   "nbconvert_exporter": "python",
   "pygments_lexer": "ipython3",
   "version": "3.7.3"
  }
 },
 "nbformat": 4,
 "nbformat_minor": 2
}
